{
 "cells": [
  {
   "cell_type": "code",
   "execution_count": 1,
   "metadata": {},
   "outputs": [],
   "source": [
    "import pandas as pd\n",
    "import numpy as np\n",
    "import random\n",
    "import warnings\n",
    "from utils import *\n",
    "from datasets import *\n",
    "from models import *\n",
    "\n",
    "warnings.filterwarnings(\"ignore\", category=pd.errors.PerformanceWarning)\n",
    "warnings.filterwarnings(\"ignore\", category=DeprecationWarning)\n",
    "warnings.filterwarnings(\"ignore\", category=RuntimeWarning)\n",
    "\n",
    "# Set display options\n",
    "pd.set_option(\"display.max_rows\", 500)  # Replace 500 with your desired number of rows\n",
    "pd.set_option(\n",
    "    \"display.max_columns\", 10\n",
    ")  # Replace 10 with your desired number of columns\n",
    "pd.set_option(\"display.width\", 1000)  # Adjust the width as needed\n",
    "pd.set_option(\"display.max_colwidth\", 50)  # Adjust the column width as needed"
   ]
  },
  {
   "cell_type": "markdown",
   "metadata": {},
   "source": [
    "### Data Preparation"
   ]
  },
  {
   "cell_type": "code",
   "execution_count": 2,
   "metadata": {},
   "outputs": [
    {
     "name": "stderr",
     "output_type": "stream",
     "text": [
      "/home/kw302/Projects/DREAMT/CHIL_Submission/datasets.py:75: FutureWarning: Series.__getitem__ treating keys as positions is deprecated. In a future version, integer keys will always be treated as labels (consistent with DataFrame behavior). To access a value by position, use `ser.iloc[pos]`\n",
      "  path = str(features_dir) + str(info_df.SID[0]) + '_domain_features_df.csv'\n",
      "/home/kw302/Projects/DREAMT/CHIL_Submission/datasets.py:125: FutureWarning: The behavior of DataFrame concatenation with empty or all-NA entries is deprecated. In a future version, this will no longer exclude empty or all-NA columns when determining the result dtypes. To retain the old behavior, exclude the relevant entries before the concat operation.\n",
      "  all_subjects_fe_df = pd.concat([all_subjects_fe_df, sid_df], ignore_index=True)\n"
     ]
    },
    {
     "name": "stdout",
     "output_type": "stream",
     "text": [
      "(82671, 610)\n",
      "597\n"
     ]
    }
   ],
   "source": [
    "# Prepare the data\n",
    "# Adjust your path here\n",
    "quality_df_dir = './results/quality_scores_per_subject.csv'\n",
    "features_dir = \"dataset_sample/E4_aggregate/\"\n",
    "info_dir = \"dataset_sample/participant_info.csv\"\n",
    "clean_df, new_features, good_quality_sids = data_preparation(\n",
    "    threshold = 0.2,\n",
    "    quality_df_dir, \n",
    "    features_dir, \n",
    "    info_dir)\n",
    "print(clean_df.shape)\n",
    "print(len(new_features))"
   ]
  },
  {
   "cell_type": "markdown",
   "metadata": {},
   "source": [
    "### Split data to train, val, and test"
   ]
  },
  {
   "cell_type": "code",
   "execution_count": 3,
   "metadata": {},
   "outputs": [
    {
     "data": {
      "text/html": [
       "<div>\n",
       "<style scoped>\n",
       "    .dataframe tbody tr th:only-of-type {\n",
       "        vertical-align: middle;\n",
       "    }\n",
       "\n",
       "    .dataframe tbody tr th {\n",
       "        vertical-align: top;\n",
       "    }\n",
       "\n",
       "    .dataframe thead th {\n",
       "        text-align: right;\n",
       "    }\n",
       "</style>\n",
       "<table border=\"1\" class=\"dataframe\">\n",
       "  <thead>\n",
       "    <tr style=\"text-align: right;\">\n",
       "      <th></th>\n",
       "      <th>PPG_Rate_Mean</th>\n",
       "      <th>HRV_SDNN</th>\n",
       "      <th>HRV_MadNN</th>\n",
       "      <th>HRV_SDRMSSD</th>\n",
       "      <th>HRV_Prc20NN</th>\n",
       "      <th>...</th>\n",
       "      <th>Hypopnea</th>\n",
       "      <th>Multiple_Events</th>\n",
       "      <th>artifact</th>\n",
       "      <th>sid</th>\n",
       "      <th>BMI</th>\n",
       "    </tr>\n",
       "  </thead>\n",
       "  <tbody>\n",
       "    <tr>\n",
       "      <th>1</th>\n",
       "      <td>87.451445</td>\n",
       "      <td>267.856258</td>\n",
       "      <td>277.987500</td>\n",
       "      <td>0.762788</td>\n",
       "      <td>468.750</td>\n",
       "      <td>...</td>\n",
       "      <td>0.0</td>\n",
       "      <td>0.0</td>\n",
       "      <td>0</td>\n",
       "      <td>S003</td>\n",
       "      <td>51.0</td>\n",
       "    </tr>\n",
       "    <tr>\n",
       "      <th>2</th>\n",
       "      <td>84.687304</td>\n",
       "      <td>280.299933</td>\n",
       "      <td>231.656250</td>\n",
       "      <td>0.672688</td>\n",
       "      <td>515.625</td>\n",
       "      <td>...</td>\n",
       "      <td>0.0</td>\n",
       "      <td>0.0</td>\n",
       "      <td>1</td>\n",
       "      <td>S003</td>\n",
       "      <td>51.0</td>\n",
       "    </tr>\n",
       "    <tr>\n",
       "      <th>3</th>\n",
       "      <td>90.889185</td>\n",
       "      <td>224.392912</td>\n",
       "      <td>208.490625</td>\n",
       "      <td>0.730625</td>\n",
       "      <td>465.625</td>\n",
       "      <td>...</td>\n",
       "      <td>0.0</td>\n",
       "      <td>0.0</td>\n",
       "      <td>1</td>\n",
       "      <td>S003</td>\n",
       "      <td>51.0</td>\n",
       "    </tr>\n",
       "    <tr>\n",
       "      <th>4</th>\n",
       "      <td>79.140186</td>\n",
       "      <td>303.274460</td>\n",
       "      <td>324.318750</td>\n",
       "      <td>0.769270</td>\n",
       "      <td>468.750</td>\n",
       "      <td>...</td>\n",
       "      <td>0.0</td>\n",
       "      <td>0.0</td>\n",
       "      <td>1</td>\n",
       "      <td>S003</td>\n",
       "      <td>51.0</td>\n",
       "    </tr>\n",
       "    <tr>\n",
       "      <th>5</th>\n",
       "      <td>90.383327</td>\n",
       "      <td>297.089740</td>\n",
       "      <td>289.570312</td>\n",
       "      <td>0.767894</td>\n",
       "      <td>450.000</td>\n",
       "      <td>...</td>\n",
       "      <td>0.0</td>\n",
       "      <td>0.0</td>\n",
       "      <td>1</td>\n",
       "      <td>S003</td>\n",
       "      <td>51.0</td>\n",
       "    </tr>\n",
       "    <tr>\n",
       "      <th>...</th>\n",
       "      <td>...</td>\n",
       "      <td>...</td>\n",
       "      <td>...</td>\n",
       "      <td>...</td>\n",
       "      <td>...</td>\n",
       "      <td>...</td>\n",
       "      <td>...</td>\n",
       "      <td>...</td>\n",
       "      <td>...</td>\n",
       "      <td>...</td>\n",
       "      <td>...</td>\n",
       "    </tr>\n",
       "    <tr>\n",
       "      <th>85066</th>\n",
       "      <td>61.392727</td>\n",
       "      <td>132.432765</td>\n",
       "      <td>23.165625</td>\n",
       "      <td>0.856175</td>\n",
       "      <td>1000.000</td>\n",
       "      <td>...</td>\n",
       "      <td>0.0</td>\n",
       "      <td>0.0</td>\n",
       "      <td>0</td>\n",
       "      <td>S102</td>\n",
       "      <td>26.0</td>\n",
       "    </tr>\n",
       "    <tr>\n",
       "      <th>85067</th>\n",
       "      <td>61.198295</td>\n",
       "      <td>138.500822</td>\n",
       "      <td>46.331250</td>\n",
       "      <td>1.081764</td>\n",
       "      <td>978.125</td>\n",
       "      <td>...</td>\n",
       "      <td>0.0</td>\n",
       "      <td>0.0</td>\n",
       "      <td>0</td>\n",
       "      <td>S102</td>\n",
       "      <td>26.0</td>\n",
       "    </tr>\n",
       "    <tr>\n",
       "      <th>85068</th>\n",
       "      <td>57.181574</td>\n",
       "      <td>18.233936</td>\n",
       "      <td>23.165625</td>\n",
       "      <td>0.781327</td>\n",
       "      <td>1031.250</td>\n",
       "      <td>...</td>\n",
       "      <td>0.0</td>\n",
       "      <td>0.0</td>\n",
       "      <td>0</td>\n",
       "      <td>S102</td>\n",
       "      <td>26.0</td>\n",
       "    </tr>\n",
       "    <tr>\n",
       "      <th>85069</th>\n",
       "      <td>57.535505</td>\n",
       "      <td>17.652470</td>\n",
       "      <td>23.165625</td>\n",
       "      <td>0.934502</td>\n",
       "      <td>1031.250</td>\n",
       "      <td>...</td>\n",
       "      <td>0.0</td>\n",
       "      <td>0.0</td>\n",
       "      <td>0</td>\n",
       "      <td>S102</td>\n",
       "      <td>26.0</td>\n",
       "    </tr>\n",
       "    <tr>\n",
       "      <th>85070</th>\n",
       "      <td>59.300100</td>\n",
       "      <td>149.769504</td>\n",
       "      <td>23.165625</td>\n",
       "      <td>1.220980</td>\n",
       "      <td>1046.875</td>\n",
       "      <td>...</td>\n",
       "      <td>0.0</td>\n",
       "      <td>0.0</td>\n",
       "      <td>0</td>\n",
       "      <td>S102</td>\n",
       "      <td>26.0</td>\n",
       "    </tr>\n",
       "  </tbody>\n",
       "</table>\n",
       "<p>82671 rows × 371 columns</p>\n",
       "</div>"
      ],
      "text/plain": [
       "       PPG_Rate_Mean    HRV_SDNN   HRV_MadNN  HRV_SDRMSSD  HRV_Prc20NN  ...  Hypopnea  Multiple_Events  artifact   sid   BMI\n",
       "1          87.451445  267.856258  277.987500     0.762788      468.750  ...       0.0              0.0         0  S003  51.0\n",
       "2          84.687304  280.299933  231.656250     0.672688      515.625  ...       0.0              0.0         1  S003  51.0\n",
       "3          90.889185  224.392912  208.490625     0.730625      465.625  ...       0.0              0.0         1  S003  51.0\n",
       "4          79.140186  303.274460  324.318750     0.769270      468.750  ...       0.0              0.0         1  S003  51.0\n",
       "5          90.383327  297.089740  289.570312     0.767894      450.000  ...       0.0              0.0         1  S003  51.0\n",
       "...              ...         ...         ...          ...          ...  ...       ...              ...       ...   ...   ...\n",
       "85066      61.392727  132.432765   23.165625     0.856175     1000.000  ...       0.0              0.0         0  S102  26.0\n",
       "85067      61.198295  138.500822   46.331250     1.081764      978.125  ...       0.0              0.0         0  S102  26.0\n",
       "85068      57.181574   18.233936   23.165625     0.781327     1031.250  ...       0.0              0.0         0  S102  26.0\n",
       "85069      57.535505   17.652470   23.165625     0.934502     1031.250  ...       0.0              0.0         0  S102  26.0\n",
       "85070      59.300100  149.769504   23.165625     1.220980     1046.875  ...       0.0              0.0         0  S102  26.0\n",
       "\n",
       "[82671 rows x 371 columns]"
      ]
     },
     "execution_count": 3,
     "metadata": {},
     "output_type": "execute_result"
    }
   ],
   "source": [
    "SW_df, final_features = split_data(clean_df, good_quality_sids, new_features)\n",
    "SW_df"
   ]
  },
  {
   "cell_type": "code",
   "execution_count": 4,
   "metadata": {},
   "outputs": [],
   "source": [
    "import random\n",
    "random.seed(0)\n",
    "train_sids = random.sample(good_quality_sids, 56)\n",
    "remaining_sids = [subj for subj in good_quality_sids if subj not in train_sids]\n",
    "val_sids = random.sample(remaining_sids, 8)\n",
    "test_sids = [subj for subj in remaining_sids if subj not in val_sids]\n",
    "\n",
    "group_variables = ['AHI_Severity', 'Obesity']\n",
    "# when idx == 0, it returns ['AHI_Severity'], the first variable in the list\n",
    "# when idx == 1, it returns ['Obesity'], the second variable in the list\n",
    "group_variable = get_variable(group_variables, idx = 0) # set your variable"
   ]
  },
  {
   "cell_type": "code",
   "execution_count": 5,
   "metadata": {},
   "outputs": [
    {
     "name": "stdout",
     "output_type": "stream",
     "text": [
      "Train data balance: \n",
      "(array([0., 1.]), array([33063, 24620]))\n",
      "\n",
      "Validation data balancpredicted_probabilitiese: \n",
      "(array([0., 1.]), array([5001, 3038]))\n",
      "\n",
      "Test data balance: \n",
      "(array([0., 1.]), array([10402,  6547]))\n",
      "24620.0\n"
     ]
    }
   ],
   "source": [
    "X_train, y_train, group_train = train_test_split(SW_df, train_sids, final_features, group_variable)\n",
    "print(\"Train data balance: \")\n",
    "print(np.unique(y_train, return_counts=True))\n",
    "print('')\n",
    "\n",
    "X_val, y_val, group_val = train_test_split(SW_df, val_sids, final_features, group_variable)\n",
    "print(\"Validation data balancpredicted_probabilitiese: \")\n",
    "print(np.unique(y_val, return_counts=True))\n",
    "print('')\n",
    "\n",
    "X_test, y_test, group_test = train_test_split(SW_df, test_sids, final_features, group_variable)\n",
    "print(\"Test data balance: \")\n",
    "print(np.unique(y_test, return_counts=True))\n",
    "print(y_train.sum())"
   ]
  },
  {
   "cell_type": "markdown",
   "metadata": {},
   "source": [
    "### Resample data"
   ]
  },
  {
   "cell_type": "code",
   "execution_count": 6,
   "metadata": {},
   "outputs": [],
   "source": [
    "X_train_resampled, y_train_resampled, group_train_resampled = resample_data(X_train, y_train, group_train, group_variable)"
   ]
  },
  {
   "cell_type": "markdown",
   "metadata": {},
   "source": [
    "### LightGBM"
   ]
  },
  {
   "cell_type": "code",
   "execution_count": 7,
   "metadata": {},
   "outputs": [
    {
     "name": "stdout",
     "output_type": "stream",
     "text": [
      "100%|██████████| 50/50 [01:14<00:00,  1.49s/trial, best loss: -0.7025875190258752]\n",
      "Best hyperparameters: {'learning_rate': 0.47589925010717243, 'max_depth': 5.0, 'n_estimators': 240.0, 'num_leaves': 20.0, 'reg_alpha': 32.0, 'reg_lambda': 3.1391479880607402}\n"
     ]
    },
    {
     "name": "stderr",
     "output_type": "stream",
     "text": [
      "/home/kw302/miniconda3/envs/dreamt/lib/python3.10/site-packages/lightgbm/engine.py:172: UserWarning: Found `num_iterations` in params. Will use it instead of argument\n",
      "  _log_warning(f\"Found `{alias}` in params. Will use it instead of argument\")\n"
     ]
    },
    {
     "name": "stdout",
     "output_type": "stream",
     "text": [
      "[LightGBM] [Info] Number of positive: 33063, number of negative: 33063\n",
      "[LightGBM] [Info] Auto-choosing col-wise multi-threading, the overhead of testing was 0.033518 seconds.\n",
      "You can set `force_col_wise=true` to remove the overhead.\n",
      "[LightGBM] [Info] Total Bins 91238\n",
      "[LightGBM] [Info] Number of data points in the train set: 66126, number of used features: 358\n",
      "[LightGBM] [Info] [binary:BoostFromScore]: pavg=0.500000 -> initscore=0.000000\n",
      "[LightGBM] [Warning] No further splits with positive gain, best gain: -inf\n"
     ]
    }
   ],
   "source": [
    "final_lgb_model = LightGBM_engine(X_train_resampled, y_train_resampled, X_val, y_val)"
   ]
  },
  {
   "cell_type": "code",
   "execution_count": 8,
   "metadata": {},
   "outputs": [
    {
     "name": "stdout",
     "output_type": "stream",
     "text": [
      "[[31259  1804]\n",
      " [ 2474 22146]]\n"
     ]
    },
    {
     "data": {
      "image/png": "[encoded data removed]",
      "text/plain": [
       "<Figure size 400x300 with 2 Axes>"
      ]
     },
     "metadata": {},
     "output_type": "display_data"
    },
    {
     "name": "stdout",
     "output_type": "stream",
     "text": [
      "[[8757 1645]\n",
      " [ 953 5594]]\n"
     ]
    },
    {
     "data": {
      "image/png": "[encoded data removed]",
      "text/plain": [
       "<Figure size 400x300 with 2 Axes>"
      ]
     },
     "metadata": {},
     "output_type": "display_data"
    },
    {
     "data": {
      "text/html": [
       "<div>\n",
       "<style scoped>\n",
       "    .dataframe tbody tr th:only-of-type {\n",
       "        vertical-align: middle;\n",
       "    }\n",
       "\n",
       "    .dataframe tbody tr th {\n",
       "        vertical-align: top;\n",
       "    }\n",
       "\n",
       "    .dataframe thead th {\n",
       "        text-align: right;\n",
       "    }\n",
       "</style>\n",
       "<table border=\"1\" class=\"dataframe\">\n",
       "  <thead>\n",
       "    <tr style=\"text-align: right;\">\n",
       "      <th></th>\n",
       "      <th>Model</th>\n",
       "      <th>Precision</th>\n",
       "      <th>Recall</th>\n",
       "      <th>F1 Score</th>\n",
       "      <th>Specificity</th>\n",
       "      <th>AUROC</th>\n",
       "      <th>AUPRC</th>\n",
       "      <th>Accuracy</th>\n",
       "      <th>Cohen's Kappa</th>\n",
       "    </tr>\n",
       "  </thead>\n",
       "  <tbody>\n",
       "    <tr>\n",
       "      <th>0</th>\n",
       "      <td>LightGBM</td>\n",
       "      <td>0.772759</td>\n",
       "      <td>0.854437</td>\n",
       "      <td>0.811548</td>\n",
       "      <td>0.841857</td>\n",
       "      <td>0.925547</td>\n",
       "      <td>0.903694</td>\n",
       "      <td>0.846717</td>\n",
       "      <td>0.675096</td>\n",
       "    </tr>\n",
       "  </tbody>\n",
       "</table>\n",
       "</div>"
      ],
      "text/plain": [
       "      Model  Precision    Recall  F1 Score  Specificity     AUROC     AUPRC  Accuracy  Cohen's Kappa\n",
       "0  LightGBM   0.772759  0.854437  0.811548     0.841857  0.925547  0.903694  0.846717       0.675096"
      ]
     },
     "execution_count": 8,
     "metadata": {},
     "output_type": "execute_result"
    }
   ],
   "source": [
    "# calculate training scores\n",
    "prob_ls_train, len_train, true_ls_train = compute_probabilities(\n",
    "    train_sids, SW_df, final_features, \"lgb\", final_lgb_model, group_variable)\n",
    "lgb_train_results_df = LightGBM_result(final_lgb_model, X_train, y_train, prob_ls_train, true_ls_train)\n",
    "\n",
    "# # calculate testing scores\n",
    "prob_ls_test, len_test, true_ls_test = compute_probabilities(\n",
    "    test_sids, SW_df, final_features, \"lgb\", final_lgb_model, group_variable)\n",
    "lgb_test_results_df = LightGBM_result(final_lgb_model, X_test, y_test, prob_ls_test, true_ls_test)\n",
    "lgb_test_results_df\n"
   ]
  },
  {
   "cell_type": "code",
   "execution_count": 9,
   "metadata": {},
   "outputs": [
    {
     "name": "stderr",
     "output_type": "stream",
     "text": [
      "LightGBM binary classifier with TreeExplainer shap values output has changed to a list of ndarray\n"
     ]
    },
    {
     "data": {
      "image/png": "[encoded data removed]",
      "text/plain": [
       "<Figure size 800x950 with 1 Axes>"
      ]
     },
     "metadata": {},
     "output_type": "display_data"
    }
   ],
   "source": [
    "import shap\n",
    "explainer = shap.TreeExplainer(final_lgb_model)\n",
    "shap_values = explainer.shap_values(X_train)\n",
    "\n",
    "shap.summary_plot(shap_values, X_train, plot_type=\"bar\", feature_names=final_features)"
   ]
  },
  {
   "cell_type": "markdown",
   "metadata": {},
   "source": [
    "### LightGBM and LSTM post processing"
   ]
  },
  {
   "cell_type": "code",
   "execution_count": 10,
   "metadata": {},
   "outputs": [
    {
     "name": "stdout",
     "output_type": "stream",
     "text": [
      "Training on cuda:0\n"
     ]
    },
    {
     "name": "stderr",
     "output_type": "stream",
     "text": [
      "dropout option adds dropout after all but last recurrent layer, so non-zero dropout expects num_layers greater than 1, but got dropout=0.5 and num_layers=1\n"
     ]
    },
    {
     "name": "stdout",
     "output_type": "stream",
     "text": [
      "Epoch 5/300 - Loss: 0.6685, Accuracy: 0.5155\n",
      "Epoch 10/300 - Loss: 0.6177, Accuracy: 0.5122\n",
      "Epoch 15/300 - Loss: 0.5261, Accuracy: 0.7565\n",
      "Epoch 20/300 - Loss: 0.3585, Accuracy: 0.8154\n",
      "Epoch 25/300 - Loss: 0.3068, Accuracy: 0.8072\n",
      "Epoch 30/300 - Loss: 0.2799, Accuracy: 0.8160\n",
      "Epoch 35/300 - Loss: 0.2658, Accuracy: 0.8230\n",
      "Epoch 40/300 - Loss: 0.2574, Accuracy: 0.8226\n",
      "Epoch 45/300 - Loss: 0.2525, Accuracy: 0.8222\n",
      "Epoch 50/300 - Loss: 0.2484, Accuracy: 0.8226\n",
      "Epoch 55/300 - Loss: 0.2453, Accuracy: 0.9367\n",
      "Epoch 60/300 - Loss: 0.2426, Accuracy: 0.9373\n",
      "Epoch 65/300 - Loss: 0.2403, Accuracy: 0.9379\n",
      "Epoch 70/300 - Loss: 0.2381, Accuracy: 0.9382\n",
      "Epoch 75/300 - Loss: 0.2361, Accuracy: 0.9386\n",
      "Epoch 80/300 - Loss: 0.2342, Accuracy: 0.9389\n",
      "Epoch 85/300 - Loss: 0.2324, Accuracy: 0.9388\n",
      "Epoch 90/300 - Loss: 0.2307, Accuracy: 0.9387\n",
      "Epoch 95/300 - Loss: 0.2291, Accuracy: 0.9388\n",
      "Epoch 100/300 - Loss: 0.2275, Accuracy: 0.9391\n",
      "Epoch 105/300 - Loss: 0.2258, Accuracy: 0.9393\n",
      "Epoch 110/300 - Loss: 0.2241, Accuracy: 0.9398\n",
      "Epoch 115/300 - Loss: 0.2223, Accuracy: 0.9403\n",
      "Epoch 120/300 - Loss: 0.2204, Accuracy: 0.9406\n",
      "Epoch 125/300 - Loss: 0.2187, Accuracy: 0.9411\n",
      "Epoch 130/300 - Loss: 0.2171, Accuracy: 0.9417\n",
      "Epoch 135/300 - Loss: 0.2154, Accuracy: 0.9419\n",
      "Epoch 140/300 - Loss: 0.2140, Accuracy: 0.9425\n",
      "Epoch 145/300 - Loss: 0.2122, Accuracy: 0.9429\n",
      "Epoch 150/300 - Loss: 0.2107, Accuracy: 0.9428\n",
      "Epoch 155/300 - Loss: 0.2093, Accuracy: 0.9433\n",
      "Epoch 160/300 - Loss: 0.2080, Accuracy: 0.9435\n",
      "Epoch 165/300 - Loss: 0.2067, Accuracy: 0.9437\n",
      "Epoch 170/300 - Loss: 0.2054, Accuracy: 0.9442\n",
      "Epoch 175/300 - Loss: 0.2042, Accuracy: 0.9446\n",
      "Epoch 180/300 - Loss: 0.2030, Accuracy: 0.9449\n",
      "Epoch 185/300 - Loss: 0.2018, Accuracy: 0.9451\n",
      "Epoch 190/300 - Loss: 0.2008, Accuracy: 0.9452\n",
      "Epoch 195/300 - Loss: 0.1995, Accuracy: 0.9457\n",
      "Epoch 200/300 - Loss: 0.1984, Accuracy: 0.9456\n",
      "Epoch 205/300 - Loss: 0.1973, Accuracy: 0.9459\n",
      "Epoch 210/300 - Loss: 0.1963, Accuracy: 0.9456\n",
      "Epoch 215/300 - Loss: 0.1951, Accuracy: 0.9459\n",
      "Epoch 220/300 - Loss: 0.1942, Accuracy: 0.9460\n",
      "Epoch 225/300 - Loss: 0.1936, Accuracy: 0.9460\n",
      "Epoch 230/300 - Loss: 0.1924, Accuracy: 0.9463\n",
      "Epoch 235/300 - Loss: 0.1917, Accuracy: 0.9462\n",
      "Epoch 240/300 - Loss: 0.1906, Accuracy: 0.9463\n",
      "Epoch 245/300 - Loss: 0.1902, Accuracy: 0.9464\n",
      "Epoch 250/300 - Loss: 0.1890, Accuracy: 0.9464\n",
      "Epoch 255/300 - Loss: 0.1882, Accuracy: 0.9466\n",
      "Epoch 260/300 - Loss: 0.1877, Accuracy: 0.9467\n",
      "Epoch 265/300 - Loss: 0.1866, Accuracy: 0.9471\n",
      "Epoch 270/300 - Loss: 0.1856, Accuracy: 0.9468\n",
      "Epoch 275/300 - Loss: 0.1847, Accuracy: 0.9473\n",
      "Epoch 280/300 - Loss: 0.1837, Accuracy: 0.9472\n",
      "Epoch 285/300 - Loss: 0.1835, Accuracy: 0.9472\n",
      "Epoch 290/300 - Loss: 0.1818, Accuracy: 0.9474\n",
      "Epoch 295/300 - Loss: 0.1810, Accuracy: 0.9476\n",
      "Epoch 300/300 - Loss: 0.1807, Accuracy: 0.9477\n"
     ]
    }
   ],
   "source": [
    "dataloader_train = LSTM_dataloader(\n",
    "    prob_ls_train, len_train, true_ls_train, batch_size=32\n",
    ")\n",
    "\n",
    "# Run LSTM model\n",
    "LSTM_model = LSTM_engine(dataloader_train, num_epoch=300, hidden_layer_size=32, learning_rate=0.001) # set your num_epoch"
   ]
  },
  {
   "cell_type": "code",
   "execution_count": 11,
   "metadata": {},
   "outputs": [
    {
     "name": "stdout",
     "output_type": "stream",
     "text": [
      "[[9042 1360]\n",
      " [ 875 5672]]\n"
     ]
    },
    {
     "data": {
      "image/png": "[encoded data removed]",
      "text/plain": [
       "<Figure size 400x300 with 2 Axes>"
      ]
     },
     "metadata": {},
     "output_type": "display_data"
    },
    {
     "data": {
      "text/html": [
       "<div>\n",
       "<style scoped>\n",
       "    .dataframe tbody tr th:only-of-type {\n",
       "        vertical-align: middle;\n",
       "    }\n",
       "\n",
       "    .dataframe tbody tr th {\n",
       "        vertical-align: top;\n",
       "    }\n",
       "\n",
       "    .dataframe thead th {\n",
       "        text-align: right;\n",
       "    }\n",
       "</style>\n",
       "<table border=\"1\" class=\"dataframe\">\n",
       "  <thead>\n",
       "    <tr style=\"text-align: right;\">\n",
       "      <th></th>\n",
       "      <th>Model</th>\n",
       "      <th>Precision</th>\n",
       "      <th>Recall</th>\n",
       "      <th>F1 Score</th>\n",
       "      <th>Specificity</th>\n",
       "      <th>AUROC</th>\n",
       "      <th>AUPRC</th>\n",
       "      <th>Accuracy</th>\n",
       "      <th>Cohen's Kappa</th>\n",
       "    </tr>\n",
       "  </thead>\n",
       "  <tbody>\n",
       "    <tr>\n",
       "      <th>0</th>\n",
       "      <td>LightGBM_LSTM</td>\n",
       "      <td>0.806598</td>\n",
       "      <td>0.866351</td>\n",
       "      <td>0.835408</td>\n",
       "      <td>0.869256</td>\n",
       "      <td>0.936992</td>\n",
       "      <td>0.914593</td>\n",
       "      <td>0.868134</td>\n",
       "      <td>0.72064</td>\n",
       "    </tr>\n",
       "  </tbody>\n",
       "</table>\n",
       "</div>"
      ],
      "text/plain": [
       "           Model  Precision    Recall  F1 Score  Specificity     AUROC     AUPRC  Accuracy  Cohen's Kappa\n",
       "0  LightGBM_LSTM   0.806598  0.866351  0.835408     0.869256  0.936992  0.914593  0.868134        0.72064"
      ]
     },
     "execution_count": 11,
     "metadata": {},
     "output_type": "execute_result"
    }
   ],
   "source": [
    "dataloader_test = LSTM_dataloader(\n",
    "    prob_ls_test, len_test, true_ls_test, batch_size=1\n",
    ")\n",
    "lgb_lstm_test_results_df = LSTM_eval(LSTM_model, dataloader_test, true_ls_test, 'LightGBM_LSTM')\n",
    "lgb_lstm_test_results_df"
   ]
  },
  {
   "cell_type": "markdown",
   "metadata": {},
   "source": [
    "### GPBoosting"
   ]
  },
  {
   "cell_type": "code",
   "execution_count": 12,
   "metadata": {},
   "outputs": [
    {
     "name": "stdout",
     "output_type": "stream",
     "text": [
      "  0%|          | 0/50 [00:00<?, ?trial/s, best loss=?]"
     ]
    },
    {
     "name": "stderr",
     "output_type": "stream",
     "text": [
      "Found `num_boost_round` in params. Will use it instead of argument\n",
      "\n"
     ]
    },
    {
     "name": "stdout",
     "output_type": "stream",
     "text": [
      "  2%|▏         | 1/50 [00:04<03:28,  4.26s/trial, best loss: -0.7048486820696388]"
     ]
    },
    {
     "name": "stderr",
     "output_type": "stream",
     "text": [
      "Found `num_boost_round` in params. Will use it instead of argument\n",
      "\n"
     ]
    },
    {
     "name": "stdout",
     "output_type": "stream",
     "text": [
      "  4%|▍         | 2/50 [00:07<03:09,  3.94s/trial, best loss: -0.7056833558863328]"
     ]
    },
    {
     "name": "stderr",
     "output_type": "stream",
     "text": [
      "Found `num_boost_round` in params. Will use it instead of argument\n",
      "\n"
     ]
    },
    {
     "name": "stdout",
     "output_type": "stream",
     "text": [
      "  6%|▌         | 3/50 [00:14<04:10,  5.34s/trial, best loss: -0.7096343296042744]"
     ]
    },
    {
     "name": "stderr",
     "output_type": "stream",
     "text": [
      "Found `num_boost_round` in params. Will use it instead of argument\n",
      "\n"
     ]
    },
    {
     "name": "stdout",
     "output_type": "stream",
     "text": [
      "  8%|▊         | 4/50 [00:19<03:43,  4.87s/trial, best loss: -0.7113800638762818]"
     ]
    },
    {
     "name": "stderr",
     "output_type": "stream",
     "text": [
      "Found `num_boost_round` in params. Will use it instead of argument\n",
      "\n"
     ]
    },
    {
     "name": "stdout",
     "output_type": "stream",
     "text": [
      " 10%|█         | 5/50 [00:23<03:27,  4.62s/trial, best loss: -0.7113800638762818]"
     ]
    },
    {
     "name": "stderr",
     "output_type": "stream",
     "text": [
      "Found `num_boost_round` in params. Will use it instead of argument\n",
      "\n"
     ]
    },
    {
     "name": "stdout",
     "output_type": "stream",
     "text": [
      " 12%|█▏        | 6/50 [00:30<03:56,  5.37s/trial, best loss: -0.7194960212201591]"
     ]
    },
    {
     "name": "stderr",
     "output_type": "stream",
     "text": [
      "Found `num_boost_round` in params. Will use it instead of argument\n",
      "\n"
     ]
    },
    {
     "name": "stdout",
     "output_type": "stream",
     "text": [
      " 14%|█▍        | 7/50 [00:32<03:04,  4.30s/trial, best loss: -0.7194960212201591]"
     ]
    },
    {
     "name": "stderr",
     "output_type": "stream",
     "text": [
      "Found `num_boost_round` in params. Will use it instead of argument\n",
      "\n"
     ]
    },
    {
     "name": "stdout",
     "output_type": "stream",
     "text": [
      " 16%|█▌        | 8/50 [00:34<02:30,  3.58s/trial, best loss: -0.7194960212201591]"
     ]
    },
    {
     "name": "stderr",
     "output_type": "stream",
     "text": [
      "Found `num_boost_round` in params. Will use it instead of argument\n",
      "\n"
     ]
    },
    {
     "name": "stdout",
     "output_type": "stream",
     "text": [
      " 18%|█▊        | 9/50 [00:38<02:36,  3.82s/trial, best loss: -0.7194960212201591]"
     ]
    },
    {
     "name": "stderr",
     "output_type": "stream",
     "text": [
      "Found `num_boost_round` in params. Will use it instead of argument\n",
      "\n"
     ]
    },
    {
     "name": "stdout",
     "output_type": "stream",
     "text": [
      " 20%|██        | 10/50 [00:41<02:18,  3.46s/trial, best loss: -0.7194960212201591]"
     ]
    },
    {
     "name": "stderr",
     "output_type": "stream",
     "text": [
      "Found `num_boost_round` in params. Will use it instead of argument\n",
      "\n"
     ]
    },
    {
     "name": "stdout",
     "output_type": "stream",
     "text": [
      " 22%|██▏       | 11/50 [00:47<02:43,  4.19s/trial, best loss: -0.7194960212201591]"
     ]
    },
    {
     "name": "stderr",
     "output_type": "stream",
     "text": [
      "Found `num_boost_round` in params. Will use it instead of argument\n",
      "\n"
     ]
    },
    {
     "name": "stdout",
     "output_type": "stream",
     "text": [
      " 24%|██▍       | 12/50 [00:49<02:13,  3.50s/trial, best loss: -0.7194960212201591]"
     ]
    },
    {
     "name": "stderr",
     "output_type": "stream",
     "text": [
      "Found `num_boost_round` in params. Will use it instead of argument\n",
      "\n"
     ]
    },
    {
     "name": "stdout",
     "output_type": "stream",
     "text": [
      " 26%|██▌       | 13/50 [00:53<02:22,  3.85s/trial, best loss: -0.7194960212201591]"
     ]
    },
    {
     "name": "stderr",
     "output_type": "stream",
     "text": [
      "Found `num_boost_round` in params. Will use it instead of argument\n",
      "\n"
     ]
    },
    {
     "name": "stdout",
     "output_type": "stream",
     "text": [
      " 28%|██▊       | 14/50 [00:56<02:11,  3.64s/trial, best loss: -0.7194960212201591]"
     ]
    },
    {
     "name": "stderr",
     "output_type": "stream",
     "text": [
      "Found `num_boost_round` in params. Will use it instead of argument\n",
      "\n"
     ]
    },
    {
     "name": "stdout",
     "output_type": "stream",
     "text": [
      " 30%|███       | 15/50 [01:00<02:03,  3.52s/trial, best loss: -0.7194960212201591]"
     ]
    },
    {
     "name": "stderr",
     "output_type": "stream",
     "text": [
      "Found `num_boost_round` in params. Will use it instead of argument\n",
      "\n"
     ]
    },
    {
     "name": "stdout",
     "output_type": "stream",
     "text": [
      " 32%|███▏      | 16/50 [01:02<01:50,  3.25s/trial, best loss: -0.7194960212201591]"
     ]
    },
    {
     "name": "stderr",
     "output_type": "stream",
     "text": [
      "Found `num_boost_round` in params. Will use it instead of argument\n",
      "\n"
     ]
    },
    {
     "name": "stdout",
     "output_type": "stream",
     "text": [
      " 34%|███▍      | 17/50 [01:04<01:36,  2.93s/trial, best loss: -0.7194960212201591]"
     ]
    },
    {
     "name": "stderr",
     "output_type": "stream",
     "text": [
      "Found `num_boost_round` in params. Will use it instead of argument\n",
      "\n"
     ]
    },
    {
     "name": "stdout",
     "output_type": "stream",
     "text": [
      " 36%|███▌      | 18/50 [01:07<01:31,  2.87s/trial, best loss: -0.7194960212201591]"
     ]
    },
    {
     "name": "stderr",
     "output_type": "stream",
     "text": [
      "Found `num_boost_round` in params. Will use it instead of argument\n",
      "\n"
     ]
    },
    {
     "name": "stdout",
     "output_type": "stream",
     "text": [
      " 38%|███▊      | 19/50 [01:11<01:38,  3.19s/trial, best loss: -0.7194960212201591]"
     ]
    },
    {
     "name": "stderr",
     "output_type": "stream",
     "text": [
      "Found `num_boost_round` in params. Will use it instead of argument\n",
      "\n"
     ]
    },
    {
     "name": "stdout",
     "output_type": "stream",
     "text": [
      " 40%|████      | 20/50 [01:17<02:01,  4.04s/trial, best loss: -0.7194960212201591]"
     ]
    },
    {
     "name": "stderr",
     "output_type": "stream",
     "text": [
      "Found `num_boost_round` in params. Will use it instead of argument\n",
      "\n"
     ]
    },
    {
     "name": "stdout",
     "output_type": "stream",
     "text": [
      " 42%|████▏     | 21/50 [01:24<02:22,  4.92s/trial, best loss: -0.7194960212201591]"
     ]
    },
    {
     "name": "stderr",
     "output_type": "stream",
     "text": [
      "Found `num_boost_round` in params. Will use it instead of argument\n",
      "\n"
     ]
    },
    {
     "name": "stdout",
     "output_type": "stream",
     "text": [
      " 44%|████▍     | 22/50 [01:31<02:34,  5.52s/trial, best loss: -0.7194960212201591]"
     ]
    },
    {
     "name": "stderr",
     "output_type": "stream",
     "text": [
      "Found `num_boost_round` in params. Will use it instead of argument\n",
      "\n"
     ]
    },
    {
     "name": "stdout",
     "output_type": "stream",
     "text": [
      " 46%|████▌     | 23/50 [01:42<03:11,  7.10s/trial, best loss: -0.7200000000000001]"
     ]
    },
    {
     "name": "stderr",
     "output_type": "stream",
     "text": [
      "Found `num_boost_round` in params. Will use it instead of argument\n",
      "\n"
     ]
    },
    {
     "name": "stdout",
     "output_type": "stream",
     "text": [
      " 48%|████▊     | 24/50 [01:52<03:26,  7.94s/trial, best loss: -0.7200000000000001]"
     ]
    },
    {
     "name": "stderr",
     "output_type": "stream",
     "text": [
      "Found `num_boost_round` in params. Will use it instead of argument\n",
      "\n"
     ]
    },
    {
     "name": "stdout",
     "output_type": "stream",
     "text": [
      " 50%|█████     | 25/50 [01:58<03:09,  7.59s/trial, best loss: -0.7200000000000001]"
     ]
    },
    {
     "name": "stderr",
     "output_type": "stream",
     "text": [
      "Found `num_boost_round` in params. Will use it instead of argument\n",
      "\n"
     ]
    },
    {
     "name": "stdout",
     "output_type": "stream",
     "text": [
      " 52%|█████▏    | 26/50 [02:06<03:02,  7.59s/trial, best loss: -0.7200000000000001]"
     ]
    },
    {
     "name": "stderr",
     "output_type": "stream",
     "text": [
      "Found `num_boost_round` in params. Will use it instead of argument\n",
      "\n"
     ]
    },
    {
     "name": "stdout",
     "output_type": "stream",
     "text": [
      " 54%|█████▍    | 27/50 [02:13<02:48,  7.31s/trial, best loss: -0.7200000000000001]"
     ]
    },
    {
     "name": "stderr",
     "output_type": "stream",
     "text": [
      "Found `num_boost_round` in params. Will use it instead of argument\n",
      "\n"
     ]
    },
    {
     "name": "stdout",
     "output_type": "stream",
     "text": [
      " 56%|█████▌    | 28/50 [02:20<02:39,  7.26s/trial, best loss: -0.7200000000000001]"
     ]
    },
    {
     "name": "stderr",
     "output_type": "stream",
     "text": [
      "Found `num_boost_round` in params. Will use it instead of argument\n",
      "\n"
     ]
    },
    {
     "name": "stdout",
     "output_type": "stream",
     "text": [
      " 58%|█████▊    | 29/50 [02:27<02:33,  7.31s/trial, best loss: -0.7200000000000001]"
     ]
    },
    {
     "name": "stderr",
     "output_type": "stream",
     "text": [
      "Found `num_boost_round` in params. Will use it instead of argument\n",
      "\n"
     ]
    },
    {
     "name": "stdout",
     "output_type": "stream",
     "text": [
      " 60%|██████    | 30/50 [02:33<02:16,  6.83s/trial, best loss: -0.7200000000000001]"
     ]
    },
    {
     "name": "stderr",
     "output_type": "stream",
     "text": [
      "Found `num_boost_round` in params. Will use it instead of argument\n",
      "\n"
     ]
    },
    {
     "name": "stdout",
     "output_type": "stream",
     "text": [
      " 62%|██████▏   | 31/50 [02:38<02:00,  6.35s/trial, best loss: -0.7200000000000001]"
     ]
    },
    {
     "name": "stderr",
     "output_type": "stream",
     "text": [
      "Found `num_boost_round` in params. Will use it instead of argument\n",
      "\n"
     ]
    },
    {
     "name": "stdout",
     "output_type": "stream",
     "text": [
      " 64%|██████▍   | 32/50 [02:43<01:46,  5.90s/trial, best loss: -0.7200000000000001]"
     ]
    },
    {
     "name": "stderr",
     "output_type": "stream",
     "text": [
      "Found `num_boost_round` in params. Will use it instead of argument\n",
      "\n"
     ]
    },
    {
     "name": "stdout",
     "output_type": "stream",
     "text": [
      " 66%|██████▌   | 33/50 [02:47<01:30,  5.34s/trial, best loss: -0.7200000000000001]"
     ]
    },
    {
     "name": "stderr",
     "output_type": "stream",
     "text": [
      "Found `num_boost_round` in params. Will use it instead of argument\n",
      "\n"
     ]
    },
    {
     "name": "stdout",
     "output_type": "stream",
     "text": [
      " 68%|██████▊   | 34/50 [02:51<01:20,  5.01s/trial, best loss: -0.7200000000000001]"
     ]
    },
    {
     "name": "stderr",
     "output_type": "stream",
     "text": [
      "Found `num_boost_round` in params. Will use it instead of argument\n",
      "\n"
     ]
    },
    {
     "name": "stdout",
     "output_type": "stream",
     "text": [
      " 70%|███████   | 35/50 [02:59<01:26,  5.74s/trial, best loss: -0.7200000000000001]"
     ]
    },
    {
     "name": "stderr",
     "output_type": "stream",
     "text": [
      "Found `num_boost_round` in params. Will use it instead of argument\n",
      "\n"
     ]
    },
    {
     "name": "stdout",
     "output_type": "stream",
     "text": [
      " 72%|███████▏  | 36/50 [03:03<01:16,  5.44s/trial, best loss: -0.7200000000000001]"
     ]
    },
    {
     "name": "stderr",
     "output_type": "stream",
     "text": [
      "Found `num_boost_round` in params. Will use it instead of argument\n",
      "\n"
     ]
    },
    {
     "name": "stdout",
     "output_type": "stream",
     "text": [
      " 74%|███████▍  | 37/50 [03:09<01:10,  5.45s/trial, best loss: -0.7200000000000001]"
     ]
    },
    {
     "name": "stderr",
     "output_type": "stream",
     "text": [
      "Found `num_boost_round` in params. Will use it instead of argument\n",
      "\n"
     ]
    },
    {
     "name": "stdout",
     "output_type": "stream",
     "text": [
      " 76%|███████▌  | 38/50 [03:18<01:18,  6.58s/trial, best loss: -0.7200000000000001]"
     ]
    },
    {
     "name": "stderr",
     "output_type": "stream",
     "text": [
      "Found `num_boost_round` in params. Will use it instead of argument\n",
      "\n"
     ]
    },
    {
     "name": "stdout",
     "output_type": "stream",
     "text": [
      " 78%|███████▊  | 39/50 [03:28<01:22,  7.54s/trial, best loss: -0.7200000000000001]"
     ]
    },
    {
     "name": "stderr",
     "output_type": "stream",
     "text": [
      "Found `num_boost_round` in params. Will use it instead of argument\n",
      "\n"
     ]
    },
    {
     "name": "stdout",
     "output_type": "stream",
     "text": [
      " 80%|████████  | 40/50 [03:36<01:15,  7.58s/trial, best loss: -0.7200000000000001]"
     ]
    },
    {
     "name": "stderr",
     "output_type": "stream",
     "text": [
      "Found `num_boost_round` in params. Will use it instead of argument\n",
      "\n"
     ]
    },
    {
     "name": "stdout",
     "output_type": "stream",
     "text": [
      " 82%|████████▏ | 41/50 [03:41<01:02,  6.97s/trial, best loss: -0.7200000000000001]"
     ]
    },
    {
     "name": "stderr",
     "output_type": "stream",
     "text": [
      "Found `num_boost_round` in params. Will use it instead of argument\n",
      "\n"
     ]
    },
    {
     "name": "stdout",
     "output_type": "stream",
     "text": [
      " 84%|████████▍ | 42/50 [03:47<00:52,  6.60s/trial, best loss: -0.7200000000000001]"
     ]
    },
    {
     "name": "stderr",
     "output_type": "stream",
     "text": [
      "Found `num_boost_round` in params. Will use it instead of argument\n",
      "\n"
     ]
    },
    {
     "name": "stdout",
     "output_type": "stream",
     "text": [
      " 86%|████████▌ | 43/50 [03:54<00:46,  6.64s/trial, best loss: -0.7200000000000001]"
     ]
    },
    {
     "name": "stderr",
     "output_type": "stream",
     "text": [
      "Found `num_boost_round` in params. Will use it instead of argument\n",
      "\n"
     ]
    },
    {
     "name": "stdout",
     "output_type": "stream",
     "text": [
      " 88%|████████▊ | 44/50 [04:00<00:39,  6.64s/trial, best loss: -0.7200000000000001]"
     ]
    },
    {
     "name": "stderr",
     "output_type": "stream",
     "text": [
      "Found `num_boost_round` in params. Will use it instead of argument\n",
      "\n"
     ]
    },
    {
     "name": "stdout",
     "output_type": "stream",
     "text": [
      " 90%|█████████ | 45/50 [04:08<00:35,  7.08s/trial, best loss: -0.7200000000000001]"
     ]
    },
    {
     "name": "stderr",
     "output_type": "stream",
     "text": [
      "Found `num_boost_round` in params. Will use it instead of argument\n",
      "\n"
     ]
    },
    {
     "name": "stdout",
     "output_type": "stream",
     "text": [
      " 92%|█████████▏| 46/50 [04:15<00:27,  6.92s/trial, best loss: -0.7201611549437636]"
     ]
    },
    {
     "name": "stderr",
     "output_type": "stream",
     "text": [
      "Found `num_boost_round` in params. Will use it instead of argument\n",
      "\n"
     ]
    },
    {
     "name": "stdout",
     "output_type": "stream",
     "text": [
      " 94%|█████████▍| 47/50 [04:20<00:19,  6.42s/trial, best loss: -0.7201611549437636]"
     ]
    },
    {
     "name": "stderr",
     "output_type": "stream",
     "text": [
      "Found `num_boost_round` in params. Will use it instead of argument\n",
      "\n"
     ]
    },
    {
     "name": "stdout",
     "output_type": "stream",
     "text": [
      " 96%|█████████▌| 48/50 [04:26<00:12,  6.17s/trial, best loss: -0.7201611549437636]"
     ]
    },
    {
     "name": "stderr",
     "output_type": "stream",
     "text": [
      "Found `num_boost_round` in params. Will use it instead of argument\n",
      "\n"
     ]
    },
    {
     "name": "stdout",
     "output_type": "stream",
     "text": [
      " 98%|█████████▊| 49/50 [04:32<00:06,  6.27s/trial, best loss: -0.7201611549437636]"
     ]
    },
    {
     "name": "stderr",
     "output_type": "stream",
     "text": [
      "Found `num_boost_round` in params. Will use it instead of argument\n",
      "\n"
     ]
    },
    {
     "name": "stdout",
     "output_type": "stream",
     "text": [
      "100%|██████████| 50/50 [04:37<00:00,  5.56s/trial, best loss: -0.7201611549437636]\n",
      "Best hyperparameters: {'feature_fraction': 0.9285796997400484, 'lambda_l1': 80.0, 'lambda_l2': 4.216476193662631, 'learning_rate': 0.009361053866599, 'max_depth': 6.0, 'neg_bagging_fraction': 0.5311096802590649, 'num_boost_round': 800.0, 'num_leaves': 200.0, 'pos_bagging_fraction': 0.8758447849514626}\n"
     ]
    },
    {
     "name": "stderr",
     "output_type": "stream",
     "text": [
      "Found `num_boost_round` in params. Will use it instead of argument\n"
     ]
    },
    {
     "name": "stdout",
     "output_type": "stream",
     "text": [
      "[GPBoost] [Info] Total Bins 91238\n",
      "[GPBoost] [Info] Number of data points in the train set: 66126, number of used features: 358\n",
      "[GPBoost] [Info] [GPBoost with bernoulli_probit likelihood]: initscore=3.808327\n",
      "[GPBoost] [Info] Start training from score 3.808327\n",
      "[1]\tvalid_0's test_neg_log_likelihood: 0.666953\n",
      "[2]\tvalid_0's test_neg_log_likelihood: 0.665245\n",
      "[3]\tvalid_0's test_neg_log_likelihood: 0.663714\n",
      "[4]\tvalid_0's test_neg_log_likelihood: 0.662023\n",
      "[5]\tvalid_0's test_neg_log_likelihood: 0.660345\n",
      "[6]\tvalid_0's test_neg_log_likelihood: 0.658625\n",
      "[7]\tvalid_0's test_neg_log_likelihood: 0.65699\n",
      "[8]\tvalid_0's test_neg_log_likelihood: 0.655394\n",
      "[9]\tvalid_0's test_neg_log_likelihood: 0.653822\n",
      "[10]\tvalid_0's test_neg_log_likelihood: 0.652343\n",
      "[11]\tvalid_0's test_neg_log_likelihood: 0.650715\n",
      "[12]\tvalid_0's test_neg_log_likelihood: 0.649237\n",
      "[13]\tvalid_0's test_neg_log_likelihood: 0.647791\n",
      "[14]\tvalid_0's test_neg_log_likelihood: 0.646246\n",
      "[15]\tvalid_0's test_neg_log_likelihood: 0.644684\n",
      "[16]\tvalid_0's test_neg_log_likelihood: 0.643176\n",
      "[17]\tvalid_0's test_neg_log_likelihood: 0.641663\n",
      "[18]\tvalid_0's test_neg_log_likelihood: 0.640295\n",
      "[19]\tvalid_0's test_neg_log_likelihood: 0.638907\n",
      "[20]\tvalid_0's test_neg_log_likelihood: 0.637427\n",
      "[21]\tvalid_0's test_neg_log_likelihood: 0.63603\n",
      "[22]\tvalid_0's test_neg_log_likelihood: 0.634676\n",
      "[23]\tvalid_0's test_neg_log_likelihood: 0.633395\n",
      "[24]\tvalid_0's test_neg_log_likelihood: 0.632102\n",
      "[25]\tvalid_0's test_neg_log_likelihood: 0.630828\n",
      "[26]\tvalid_0's test_neg_log_likelihood: 0.62948\n",
      "[27]\tvalid_0's test_neg_log_likelihood: 0.628109\n",
      "[28]\tvalid_0's test_neg_log_likelihood: 0.626828\n",
      "[29]\tvalid_0's test_neg_log_likelihood: 0.625428\n",
      "[30]\tvalid_0's test_neg_log_likelihood: 0.62409\n",
      "[31]\tvalid_0's test_neg_log_likelihood: 0.622725\n",
      "[32]\tvalid_0's test_neg_log_likelihood: 0.621443\n",
      "[33]\tvalid_0's test_neg_log_likelihood: 0.620135\n",
      "[34]\tvalid_0's test_neg_log_likelihood: 0.618878\n",
      "[35]\tvalid_0's test_neg_log_likelihood: 0.617519\n",
      "[36]\tvalid_0's test_neg_log_likelihood: 0.616246\n",
      "[37]\tvalid_0's test_neg_log_likelihood: 0.615007\n",
      "[38]\tvalid_0's test_neg_log_likelihood: 0.613797\n",
      "[39]\tvalid_0's test_neg_log_likelihood: 0.612616\n",
      "[40]\tvalid_0's test_neg_log_likelihood: 0.611399\n",
      "[41]\tvalid_0's test_neg_log_likelihood: 0.610212\n",
      "[42]\tvalid_0's test_neg_log_likelihood: 0.609099\n",
      "[43]\tvalid_0's test_neg_log_likelihood: 0.608041\n",
      "[44]\tvalid_0's test_neg_log_likelihood: 0.606955\n",
      "[45]\tvalid_0's test_neg_log_likelihood: 0.605839\n",
      "[46]\tvalid_0's test_neg_log_likelihood: 0.604703\n",
      "[47]\tvalid_0's test_neg_log_likelihood: 0.603636\n",
      "[48]\tvalid_0's test_neg_log_likelihood: 0.602532\n",
      "[49]\tvalid_0's test_neg_log_likelihood: 0.601422\n",
      "[50]\tvalid_0's test_neg_log_likelihood: 0.600368\n",
      "[51]\tvalid_0's test_neg_log_likelihood: 0.599256\n",
      "[52]\tvalid_0's test_neg_log_likelihood: 0.59828\n",
      "[53]\tvalid_0's test_neg_log_likelihood: 0.597232\n",
      "[54]\tvalid_0's test_neg_log_likelihood: 0.596267\n",
      "[55]\tvalid_0's test_neg_log_likelihood: 0.595241\n",
      "[56]\tvalid_0's test_neg_log_likelihood: 0.594225\n",
      "[57]\tvalid_0's test_neg_log_likelihood: 0.593237\n",
      "[58]\tvalid_0's test_neg_log_likelihood: 0.592286\n",
      "[59]\tvalid_0's test_neg_log_likelihood: 0.591363\n",
      "[60]\tvalid_0's test_neg_log_likelihood: 0.590384\n",
      "[61]\tvalid_0's test_neg_log_likelihood: 0.589474\n",
      "[62]\tvalid_0's test_neg_log_likelihood: 0.588485\n",
      "[63]\tvalid_0's test_neg_log_likelihood: 0.587525\n",
      "[64]\tvalid_0's test_neg_log_likelihood: 0.58661\n",
      "[65]\tvalid_0's test_neg_log_likelihood: 0.58576\n",
      "[66]\tvalid_0's test_neg_log_likelihood: 0.584785\n",
      "[67]\tvalid_0's test_neg_log_likelihood: 0.583915\n",
      "[68]\tvalid_0's test_neg_log_likelihood: 0.582972\n",
      "[69]\tvalid_0's test_neg_log_likelihood: 0.582148\n",
      "[70]\tvalid_0's test_neg_log_likelihood: 0.581306\n",
      "[71]\tvalid_0's test_neg_log_likelihood: 0.580475\n",
      "[72]\tvalid_0's test_neg_log_likelihood: 0.579576\n",
      "[73]\tvalid_0's test_neg_log_likelihood: 0.578838\n",
      "[74]\tvalid_0's test_neg_log_likelihood: 0.577949\n",
      "[75]\tvalid_0's test_neg_log_likelihood: 0.577065\n",
      "[76]\tvalid_0's test_neg_log_likelihood: 0.576277\n",
      "[77]\tvalid_0's test_neg_log_likelihood: 0.575465\n",
      "[78]\tvalid_0's test_neg_log_likelihood: 0.574652\n",
      "[79]\tvalid_0's test_neg_log_likelihood: 0.573824\n",
      "[80]\tvalid_0's test_neg_log_likelihood: 0.573065\n",
      "[81]\tvalid_0's test_neg_log_likelihood: 0.572363\n",
      "[82]\tvalid_0's test_neg_log_likelihood: 0.571653\n",
      "[83]\tvalid_0's test_neg_log_likelihood: 0.570918\n",
      "[84]\tvalid_0's test_neg_log_likelihood: 0.570184\n",
      "[85]\tvalid_0's test_neg_log_likelihood: 0.569397\n",
      "[86]\tvalid_0's test_neg_log_likelihood: 0.568687\n",
      "[87]\tvalid_0's test_neg_log_likelihood: 0.567918\n",
      "[88]\tvalid_0's test_neg_log_likelihood: 0.567191\n",
      "[89]\tvalid_0's test_neg_log_likelihood: 0.566453\n",
      "[90]\tvalid_0's test_neg_log_likelihood: 0.565632\n",
      "[91]\tvalid_0's test_neg_log_likelihood: 0.564897\n",
      "[92]\tvalid_0's test_neg_log_likelihood: 0.564172\n",
      "[93]\tvalid_0's test_neg_log_likelihood: 0.563427\n",
      "[94]\tvalid_0's test_neg_log_likelihood: 0.562786\n",
      "[95]\tvalid_0's test_neg_log_likelihood: 0.56203\n",
      "[96]\tvalid_0's test_neg_log_likelihood: 0.561281\n",
      "[97]\tvalid_0's test_neg_log_likelihood: 0.560618\n",
      "[98]\tvalid_0's test_neg_log_likelihood: 0.559889\n",
      "[99]\tvalid_0's test_neg_log_likelihood: 0.559198\n",
      "[100]\tvalid_0's test_neg_log_likelihood: 0.558542\n",
      "[101]\tvalid_0's test_neg_log_likelihood: 0.557874\n",
      "[102]\tvalid_0's test_neg_log_likelihood: 0.557152\n",
      "[103]\tvalid_0's test_neg_log_likelihood: 0.556472\n",
      "[104]\tvalid_0's test_neg_log_likelihood: 0.555826\n",
      "[105]\tvalid_0's test_neg_log_likelihood: 0.555181\n",
      "[106]\tvalid_0's test_neg_log_likelihood: 0.554543\n",
      "[107]\tvalid_0's test_neg_log_likelihood: 0.553779\n",
      "[108]\tvalid_0's test_neg_log_likelihood: 0.553073\n",
      "[109]\tvalid_0's test_neg_log_likelihood: 0.552474\n",
      "[110]\tvalid_0's test_neg_log_likelihood: 0.551852\n",
      "[111]\tvalid_0's test_neg_log_likelihood: 0.55117\n",
      "[112]\tvalid_0's test_neg_log_likelihood: 0.550514\n",
      "[113]\tvalid_0's test_neg_log_likelihood: 0.549882\n",
      "[114]\tvalid_0's test_neg_log_likelihood: 0.549286\n",
      "[115]\tvalid_0's test_neg_log_likelihood: 0.548609\n",
      "[116]\tvalid_0's test_neg_log_likelihood: 0.548018\n",
      "[117]\tvalid_0's test_neg_log_likelihood: 0.547402\n",
      "[118]\tvalid_0's test_neg_log_likelihood: 0.546802\n",
      "[119]\tvalid_0's test_neg_log_likelihood: 0.54622\n",
      "[120]\tvalid_0's test_neg_log_likelihood: 0.545678\n",
      "[121]\tvalid_0's test_neg_log_likelihood: 0.545047\n",
      "[122]\tvalid_0's test_neg_log_likelihood: 0.544433\n",
      "[123]\tvalid_0's test_neg_log_likelihood: 0.543853\n",
      "[124]\tvalid_0's test_neg_log_likelihood: 0.543263\n",
      "[125]\tvalid_0's test_neg_log_likelihood: 0.54277\n",
      "[126]\tvalid_0's test_neg_log_likelihood: 0.542235\n",
      "[127]\tvalid_0's test_neg_log_likelihood: 0.541682\n",
      "[128]\tvalid_0's test_neg_log_likelihood: 0.541144\n",
      "[129]\tvalid_0's test_neg_log_likelihood: 0.54063\n",
      "[130]\tvalid_0's test_neg_log_likelihood: 0.540015\n",
      "[131]\tvalid_0's test_neg_log_likelihood: 0.539416\n",
      "[132]\tvalid_0's test_neg_log_likelihood: 0.538887\n",
      "[133]\tvalid_0's test_neg_log_likelihood: 0.538352\n",
      "[134]\tvalid_0's test_neg_log_likelihood: 0.537854\n",
      "[135]\tvalid_0's test_neg_log_likelihood: 0.537318\n",
      "[136]\tvalid_0's test_neg_log_likelihood: 0.536734\n",
      "[137]\tvalid_0's test_neg_log_likelihood: 0.536216\n",
      "[138]\tvalid_0's test_neg_log_likelihood: 0.535716\n",
      "[139]\tvalid_0's test_neg_log_likelihood: 0.535286\n",
      "[140]\tvalid_0's test_neg_log_likelihood: 0.534774\n",
      "[141]\tvalid_0's test_neg_log_likelihood: 0.534278\n",
      "[142]\tvalid_0's test_neg_log_likelihood: 0.533737\n",
      "[143]\tvalid_0's test_neg_log_likelihood: 0.533224\n",
      "[144]\tvalid_0's test_neg_log_likelihood: 0.532694\n",
      "[145]\tvalid_0's test_neg_log_likelihood: 0.532146\n",
      "[146]\tvalid_0's test_neg_log_likelihood: 0.53165\n",
      "[147]\tvalid_0's test_neg_log_likelihood: 0.531168\n",
      "[148]\tvalid_0's test_neg_log_likelihood: 0.530748\n",
      "[149]\tvalid_0's test_neg_log_likelihood: 0.530318\n",
      "[150]\tvalid_0's test_neg_log_likelihood: 0.529886\n",
      "[151]\tvalid_0's test_neg_log_likelihood: 0.52939\n",
      "[152]\tvalid_0's test_neg_log_likelihood: 0.528948\n",
      "[153]\tvalid_0's test_neg_log_likelihood: 0.528415\n",
      "[154]\tvalid_0's test_neg_log_likelihood: 0.52793\n",
      "[155]\tvalid_0's test_neg_log_likelihood: 0.527466\n",
      "[156]\tvalid_0's test_neg_log_likelihood: 0.527057\n",
      "[157]\tvalid_0's test_neg_log_likelihood: 0.526619\n",
      "[158]\tvalid_0's test_neg_log_likelihood: 0.526144\n",
      "[159]\tvalid_0's test_neg_log_likelihood: 0.525693\n",
      "[160]\tvalid_0's test_neg_log_likelihood: 0.525211\n",
      "[161]\tvalid_0's test_neg_log_likelihood: 0.524781\n",
      "[162]\tvalid_0's test_neg_log_likelihood: 0.524326\n",
      "[163]\tvalid_0's test_neg_log_likelihood: 0.523897\n",
      "[164]\tvalid_0's test_neg_log_likelihood: 0.523424\n",
      "[165]\tvalid_0's test_neg_log_likelihood: 0.52301\n",
      "[166]\tvalid_0's test_neg_log_likelihood: 0.522611\n",
      "[167]\tvalid_0's test_neg_log_likelihood: 0.522133\n",
      "[168]\tvalid_0's test_neg_log_likelihood: 0.521705\n",
      "[169]\tvalid_0's test_neg_log_likelihood: 0.521258\n",
      "[170]\tvalid_0's test_neg_log_likelihood: 0.520855\n",
      "[171]\tvalid_0's test_neg_log_likelihood: 0.520436\n",
      "[172]\tvalid_0's test_neg_log_likelihood: 0.520095\n",
      "[173]\tvalid_0's test_neg_log_likelihood: 0.519666\n",
      "[174]\tvalid_0's test_neg_log_likelihood: 0.519312\n",
      "[175]\tvalid_0's test_neg_log_likelihood: 0.518977\n",
      "[176]\tvalid_0's test_neg_log_likelihood: 0.518567\n",
      "[177]\tvalid_0's test_neg_log_likelihood: 0.518163\n",
      "[178]\tvalid_0's test_neg_log_likelihood: 0.517774\n",
      "[179]\tvalid_0's test_neg_log_likelihood: 0.517387\n",
      "[180]\tvalid_0's test_neg_log_likelihood: 0.517006\n",
      "[181]\tvalid_0's test_neg_log_likelihood: 0.516617\n",
      "[182]\tvalid_0's test_neg_log_likelihood: 0.516228\n",
      "[183]\tvalid_0's test_neg_log_likelihood: 0.515882\n",
      "[184]\tvalid_0's test_neg_log_likelihood: 0.515484\n",
      "[185]\tvalid_0's test_neg_log_likelihood: 0.515143\n",
      "[186]\tvalid_0's test_neg_log_likelihood: 0.51484\n",
      "[187]\tvalid_0's test_neg_log_likelihood: 0.514473\n",
      "[188]\tvalid_0's test_neg_log_likelihood: 0.5141\n",
      "[189]\tvalid_0's test_neg_log_likelihood: 0.513749\n",
      "[190]\tvalid_0's test_neg_log_likelihood: 0.513377\n",
      "[191]\tvalid_0's test_neg_log_likelihood: 0.513024\n",
      "[192]\tvalid_0's test_neg_log_likelihood: 0.51266\n",
      "[193]\tvalid_0's test_neg_log_likelihood: 0.512369\n",
      "[194]\tvalid_0's test_neg_log_likelihood: 0.512063\n",
      "[195]\tvalid_0's test_neg_log_likelihood: 0.511684\n",
      "[196]\tvalid_0's test_neg_log_likelihood: 0.511333\n",
      "[197]\tvalid_0's test_neg_log_likelihood: 0.510996\n",
      "[198]\tvalid_0's test_neg_log_likelihood: 0.510668\n",
      "[199]\tvalid_0's test_neg_log_likelihood: 0.510332\n",
      "[200]\tvalid_0's test_neg_log_likelihood: 0.509992\n",
      "[201]\tvalid_0's test_neg_log_likelihood: 0.509636\n",
      "[202]\tvalid_0's test_neg_log_likelihood: 0.509344\n",
      "[203]\tvalid_0's test_neg_log_likelihood: 0.509036\n",
      "[204]\tvalid_0's test_neg_log_likelihood: 0.508758\n",
      "[205]\tvalid_0's test_neg_log_likelihood: 0.508452\n",
      "[206]\tvalid_0's test_neg_log_likelihood: 0.508118\n",
      "[207]\tvalid_0's test_neg_log_likelihood: 0.507794\n",
      "[208]\tvalid_0's test_neg_log_likelihood: 0.50759\n",
      "[209]\tvalid_0's test_neg_log_likelihood: 0.507328\n",
      "[210]\tvalid_0's test_neg_log_likelihood: 0.507072\n",
      "[211]\tvalid_0's test_neg_log_likelihood: 0.5068\n",
      "[212]\tvalid_0's test_neg_log_likelihood: 0.506506\n",
      "[213]\tvalid_0's test_neg_log_likelihood: 0.506226\n",
      "[214]\tvalid_0's test_neg_log_likelihood: 0.505923\n",
      "[215]\tvalid_0's test_neg_log_likelihood: 0.505644\n",
      "[216]\tvalid_0's test_neg_log_likelihood: 0.505391\n",
      "[217]\tvalid_0's test_neg_log_likelihood: 0.505172\n",
      "[218]\tvalid_0's test_neg_log_likelihood: 0.50486\n",
      "[219]\tvalid_0's test_neg_log_likelihood: 0.504587\n",
      "[220]\tvalid_0's test_neg_log_likelihood: 0.504291\n",
      "[221]\tvalid_0's test_neg_log_likelihood: 0.504029\n",
      "[222]\tvalid_0's test_neg_log_likelihood: 0.503784\n",
      "[223]\tvalid_0's test_neg_log_likelihood: 0.503474\n",
      "[224]\tvalid_0's test_neg_log_likelihood: 0.503211\n",
      "[225]\tvalid_0's test_neg_log_likelihood: 0.502927\n",
      "[226]\tvalid_0's test_neg_log_likelihood: 0.502691\n",
      "[227]\tvalid_0's test_neg_log_likelihood: 0.502428\n",
      "[228]\tvalid_0's test_neg_log_likelihood: 0.50217\n",
      "[229]\tvalid_0's test_neg_log_likelihood: 0.501913\n",
      "[230]\tvalid_0's test_neg_log_likelihood: 0.501698\n",
      "[231]\tvalid_0's test_neg_log_likelihood: 0.501485\n",
      "[232]\tvalid_0's test_neg_log_likelihood: 0.501185\n",
      "[233]\tvalid_0's test_neg_log_likelihood: 0.501022\n",
      "[234]\tvalid_0's test_neg_log_likelihood: 0.500801\n",
      "[235]\tvalid_0's test_neg_log_likelihood: 0.500558\n",
      "[236]\tvalid_0's test_neg_log_likelihood: 0.500342\n",
      "[237]\tvalid_0's test_neg_log_likelihood: 0.500099\n",
      "[238]\tvalid_0's test_neg_log_likelihood: 0.499862\n",
      "[239]\tvalid_0's test_neg_log_likelihood: 0.499581\n",
      "[240]\tvalid_0's test_neg_log_likelihood: 0.499308\n",
      "[241]\tvalid_0's test_neg_log_likelihood: 0.499081\n",
      "[242]\tvalid_0's test_neg_log_likelihood: 0.498817\n",
      "[243]\tvalid_0's test_neg_log_likelihood: 0.498599\n",
      "[244]\tvalid_0's test_neg_log_likelihood: 0.49839\n",
      "[245]\tvalid_0's test_neg_log_likelihood: 0.49819\n",
      "[246]\tvalid_0's test_neg_log_likelihood: 0.498032\n",
      "[247]\tvalid_0's test_neg_log_likelihood: 0.497809\n",
      "[248]\tvalid_0's test_neg_log_likelihood: 0.497581\n",
      "[249]\tvalid_0's test_neg_log_likelihood: 0.497319\n",
      "[250]\tvalid_0's test_neg_log_likelihood: 0.497091\n",
      "[251]\tvalid_0's test_neg_log_likelihood: 0.496841\n",
      "[252]\tvalid_0's test_neg_log_likelihood: 0.496593\n",
      "[253]\tvalid_0's test_neg_log_likelihood: 0.49641\n",
      "[254]\tvalid_0's test_neg_log_likelihood: 0.496185\n",
      "[255]\tvalid_0's test_neg_log_likelihood: 0.495999\n",
      "[256]\tvalid_0's test_neg_log_likelihood: 0.495761\n",
      "[257]\tvalid_0's test_neg_log_likelihood: 0.495549\n",
      "[258]\tvalid_0's test_neg_log_likelihood: 0.495314\n",
      "[259]\tvalid_0's test_neg_log_likelihood: 0.495126\n",
      "[260]\tvalid_0's test_neg_log_likelihood: 0.494909\n",
      "[261]\tvalid_0's test_neg_log_likelihood: 0.494688\n",
      "[262]\tvalid_0's test_neg_log_likelihood: 0.494484\n",
      "[263]\tvalid_0's test_neg_log_likelihood: 0.494309\n",
      "[264]\tvalid_0's test_neg_log_likelihood: 0.494137\n",
      "[265]\tvalid_0's test_neg_log_likelihood: 0.493945\n",
      "[266]\tvalid_0's test_neg_log_likelihood: 0.493759\n",
      "[267]\tvalid_0's test_neg_log_likelihood: 0.493512\n",
      "[268]\tvalid_0's test_neg_log_likelihood: 0.493331\n",
      "[269]\tvalid_0's test_neg_log_likelihood: 0.49315\n",
      "[270]\tvalid_0's test_neg_log_likelihood: 0.492936\n",
      "[271]\tvalid_0's test_neg_log_likelihood: 0.492743\n",
      "[272]\tvalid_0's test_neg_log_likelihood: 0.492545\n",
      "[273]\tvalid_0's test_neg_log_likelihood: 0.49235\n",
      "[274]\tvalid_0's test_neg_log_likelihood: 0.492103\n",
      "[275]\tvalid_0's test_neg_log_likelihood: 0.491923\n",
      "[276]\tvalid_0's test_neg_log_likelihood: 0.491774\n",
      "[277]\tvalid_0's test_neg_log_likelihood: 0.491608\n",
      "[278]\tvalid_0's test_neg_log_likelihood: 0.491472\n",
      "[279]\tvalid_0's test_neg_log_likelihood: 0.491252\n",
      "[280]\tvalid_0's test_neg_log_likelihood: 0.491048\n",
      "[281]\tvalid_0's test_neg_log_likelihood: 0.490841\n",
      "[282]\tvalid_0's test_neg_log_likelihood: 0.490693\n",
      "[283]\tvalid_0's test_neg_log_likelihood: 0.490539\n",
      "[284]\tvalid_0's test_neg_log_likelihood: 0.490343\n",
      "[285]\tvalid_0's test_neg_log_likelihood: 0.490167\n",
      "[286]\tvalid_0's test_neg_log_likelihood: 0.489951\n",
      "[287]\tvalid_0's test_neg_log_likelihood: 0.489788\n",
      "[288]\tvalid_0's test_neg_log_likelihood: 0.489604\n",
      "[289]\tvalid_0's test_neg_log_likelihood: 0.489441\n",
      "[290]\tvalid_0's test_neg_log_likelihood: 0.489134\n",
      "[291]\tvalid_0's test_neg_log_likelihood: 0.488985\n",
      "[292]\tvalid_0's test_neg_log_likelihood: 0.488807\n",
      "[293]\tvalid_0's test_neg_log_likelihood: 0.488675\n",
      "[294]\tvalid_0's test_neg_log_likelihood: 0.488483\n",
      "[295]\tvalid_0's test_neg_log_likelihood: 0.488354\n",
      "[296]\tvalid_0's test_neg_log_likelihood: 0.488083\n",
      "[297]\tvalid_0's test_neg_log_likelihood: 0.487962\n",
      "[298]\tvalid_0's test_neg_log_likelihood: 0.487808\n",
      "[299]\tvalid_0's test_neg_log_likelihood: 0.48756\n",
      "[300]\tvalid_0's test_neg_log_likelihood: 0.487366\n",
      "[301]\tvalid_0's test_neg_log_likelihood: 0.487193\n",
      "[302]\tvalid_0's test_neg_log_likelihood: 0.487072\n",
      "[303]\tvalid_0's test_neg_log_likelihood: 0.486921\n",
      "[304]\tvalid_0's test_neg_log_likelihood: 0.486661\n",
      "[305]\tvalid_0's test_neg_log_likelihood: 0.486476\n",
      "[306]\tvalid_0's test_neg_log_likelihood: 0.486305\n",
      "[307]\tvalid_0's test_neg_log_likelihood: 0.486181\n",
      "[308]\tvalid_0's test_neg_log_likelihood: 0.486042\n",
      "[309]\tvalid_0's test_neg_log_likelihood: 0.48591\n",
      "[310]\tvalid_0's test_neg_log_likelihood: 0.485744\n",
      "[311]\tvalid_0's test_neg_log_likelihood: 0.485586\n",
      "[312]\tvalid_0's test_neg_log_likelihood: 0.485407\n",
      "[313]\tvalid_0's test_neg_log_likelihood: 0.485346\n",
      "[314]\tvalid_0's test_neg_log_likelihood: 0.485078\n",
      "[315]\tvalid_0's test_neg_log_likelihood: 0.484901\n",
      "[316]\tvalid_0's test_neg_log_likelihood: 0.484807\n",
      "[317]\tvalid_0's test_neg_log_likelihood: 0.484688\n",
      "[318]\tvalid_0's test_neg_log_likelihood: 0.484505\n",
      "[319]\tvalid_0's test_neg_log_likelihood: 0.484399\n",
      "[320]\tvalid_0's test_neg_log_likelihood: 0.484231\n",
      "[321]\tvalid_0's test_neg_log_likelihood: 0.484113\n",
      "[322]\tvalid_0's test_neg_log_likelihood: 0.483942\n",
      "[323]\tvalid_0's test_neg_log_likelihood: 0.483834\n",
      "[324]\tvalid_0's test_neg_log_likelihood: 0.483687\n",
      "[325]\tvalid_0's test_neg_log_likelihood: 0.483549\n",
      "[326]\tvalid_0's test_neg_log_likelihood: 0.48338\n",
      "[327]\tvalid_0's test_neg_log_likelihood: 0.483198\n",
      "[328]\tvalid_0's test_neg_log_likelihood: 0.483042\n",
      "[329]\tvalid_0's test_neg_log_likelihood: 0.482919\n",
      "[330]\tvalid_0's test_neg_log_likelihood: 0.482752\n",
      "[331]\tvalid_0's test_neg_log_likelihood: 0.482649\n",
      "[332]\tvalid_0's test_neg_log_likelihood: 0.482532\n",
      "[333]\tvalid_0's test_neg_log_likelihood: 0.482437\n",
      "[334]\tvalid_0's test_neg_log_likelihood: 0.482265\n",
      "[335]\tvalid_0's test_neg_log_likelihood: 0.482164\n",
      "[336]\tvalid_0's test_neg_log_likelihood: 0.482023\n",
      "[337]\tvalid_0's test_neg_log_likelihood: 0.481923\n",
      "[338]\tvalid_0's test_neg_log_likelihood: 0.481845\n",
      "[339]\tvalid_0's test_neg_log_likelihood: 0.481686\n",
      "[340]\tvalid_0's test_neg_log_likelihood: 0.481577\n",
      "[341]\tvalid_0's test_neg_log_likelihood: 0.48148\n",
      "[342]\tvalid_0's test_neg_log_likelihood: 0.481361\n",
      "[343]\tvalid_0's test_neg_log_likelihood: 0.481266\n",
      "[344]\tvalid_0's test_neg_log_likelihood: 0.481144\n",
      "[345]\tvalid_0's test_neg_log_likelihood: 0.481012\n",
      "[346]\tvalid_0's test_neg_log_likelihood: 0.480959\n",
      "[347]\tvalid_0's test_neg_log_likelihood: 0.480874\n",
      "[348]\tvalid_0's test_neg_log_likelihood: 0.480742\n",
      "[349]\tvalid_0's test_neg_log_likelihood: 0.480591\n",
      "[350]\tvalid_0's test_neg_log_likelihood: 0.48049\n",
      "[351]\tvalid_0's test_neg_log_likelihood: 0.480404\n",
      "[352]\tvalid_0's test_neg_log_likelihood: 0.480297\n",
      "[353]\tvalid_0's test_neg_log_likelihood: 0.48014\n",
      "[354]\tvalid_0's test_neg_log_likelihood: 0.479998\n",
      "[355]\tvalid_0's test_neg_log_likelihood: 0.479896\n",
      "[356]\tvalid_0's test_neg_log_likelihood: 0.479804\n",
      "[357]\tvalid_0's test_neg_log_likelihood: 0.479644\n",
      "[358]\tvalid_0's test_neg_log_likelihood: 0.47956\n",
      "[359]\tvalid_0's test_neg_log_likelihood: 0.479462\n",
      "[360]\tvalid_0's test_neg_log_likelihood: 0.479341\n",
      "[361]\tvalid_0's test_neg_log_likelihood: 0.47924\n",
      "[362]\tvalid_0's test_neg_log_likelihood: 0.479109\n",
      "[363]\tvalid_0's test_neg_log_likelihood: 0.479018\n",
      "[364]\tvalid_0's test_neg_log_likelihood: 0.478866\n",
      "[365]\tvalid_0's test_neg_log_likelihood: 0.47875\n",
      "[366]\tvalid_0's test_neg_log_likelihood: 0.478648\n",
      "[367]\tvalid_0's test_neg_log_likelihood: 0.478546\n",
      "[368]\tvalid_0's test_neg_log_likelihood: 0.4784\n",
      "[369]\tvalid_0's test_neg_log_likelihood: 0.47834\n",
      "[370]\tvalid_0's test_neg_log_likelihood: 0.478216\n",
      "[371]\tvalid_0's test_neg_log_likelihood: 0.478091\n",
      "[372]\tvalid_0's test_neg_log_likelihood: 0.478\n",
      "[373]\tvalid_0's test_neg_log_likelihood: 0.477916\n",
      "[374]\tvalid_0's test_neg_log_likelihood: 0.477818\n",
      "[375]\tvalid_0's test_neg_log_likelihood: 0.477696\n",
      "[376]\tvalid_0's test_neg_log_likelihood: 0.477607\n",
      "[377]\tvalid_0's test_neg_log_likelihood: 0.477478\n",
      "[378]\tvalid_0's test_neg_log_likelihood: 0.477353\n",
      "[379]\tvalid_0's test_neg_log_likelihood: 0.477197\n",
      "[380]\tvalid_0's test_neg_log_likelihood: 0.477076\n",
      "[381]\tvalid_0's test_neg_log_likelihood: 0.476995\n",
      "[382]\tvalid_0's test_neg_log_likelihood: 0.476897\n",
      "[383]\tvalid_0's test_neg_log_likelihood: 0.476801\n",
      "[384]\tvalid_0's test_neg_log_likelihood: 0.476745\n",
      "[385]\tvalid_0's test_neg_log_likelihood: 0.476598\n",
      "[386]\tvalid_0's test_neg_log_likelihood: 0.476447\n",
      "[387]\tvalid_0's test_neg_log_likelihood: 0.476349\n",
      "[388]\tvalid_0's test_neg_log_likelihood: 0.476199\n",
      "[389]\tvalid_0's test_neg_log_likelihood: 0.476108\n",
      "[390]\tvalid_0's test_neg_log_likelihood: 0.476009\n",
      "[391]\tvalid_0's test_neg_log_likelihood: 0.475903\n",
      "[392]\tvalid_0's test_neg_log_likelihood: 0.475776\n",
      "[393]\tvalid_0's test_neg_log_likelihood: 0.47567\n",
      "[394]\tvalid_0's test_neg_log_likelihood: 0.475605\n",
      "[395]\tvalid_0's test_neg_log_likelihood: 0.475495\n",
      "[396]\tvalid_0's test_neg_log_likelihood: 0.475403\n",
      "[397]\tvalid_0's test_neg_log_likelihood: 0.475292\n",
      "[398]\tvalid_0's test_neg_log_likelihood: 0.475197\n",
      "[399]\tvalid_0's test_neg_log_likelihood: 0.475051\n",
      "[400]\tvalid_0's test_neg_log_likelihood: 0.474923\n",
      "[401]\tvalid_0's test_neg_log_likelihood: 0.4748\n",
      "[402]\tvalid_0's test_neg_log_likelihood: 0.474722\n",
      "[403]\tvalid_0's test_neg_log_likelihood: 0.474679\n",
      "[404]\tvalid_0's test_neg_log_likelihood: 0.474574\n",
      "[405]\tvalid_0's test_neg_log_likelihood: 0.474514\n",
      "[406]\tvalid_0's test_neg_log_likelihood: 0.474402\n",
      "[407]\tvalid_0's test_neg_log_likelihood: 0.474308\n",
      "[408]\tvalid_0's test_neg_log_likelihood: 0.474231\n",
      "[409]\tvalid_0's test_neg_log_likelihood: 0.474138\n",
      "[410]\tvalid_0's test_neg_log_likelihood: 0.474091\n",
      "[411]\tvalid_0's test_neg_log_likelihood: 0.473979\n",
      "[412]\tvalid_0's test_neg_log_likelihood: 0.473921\n",
      "[413]\tvalid_0's test_neg_log_likelihood: 0.473825\n",
      "[414]\tvalid_0's test_neg_log_likelihood: 0.473775\n",
      "[415]\tvalid_0's test_neg_log_likelihood: 0.473703\n",
      "[416]\tvalid_0's test_neg_log_likelihood: 0.473629\n",
      "[417]\tvalid_0's test_neg_log_likelihood: 0.473532\n",
      "[418]\tvalid_0's test_neg_log_likelihood: 0.473442\n",
      "[419]\tvalid_0's test_neg_log_likelihood: 0.473363\n",
      "[420]\tvalid_0's test_neg_log_likelihood: 0.473309\n",
      "[421]\tvalid_0's test_neg_log_likelihood: 0.473218\n",
      "[422]\tvalid_0's test_neg_log_likelihood: 0.473145\n",
      "[423]\tvalid_0's test_neg_log_likelihood: 0.473056\n",
      "[424]\tvalid_0's test_neg_log_likelihood: 0.472983\n",
      "[425]\tvalid_0's test_neg_log_likelihood: 0.472946\n",
      "[426]\tvalid_0's test_neg_log_likelihood: 0.472878\n",
      "[427]\tvalid_0's test_neg_log_likelihood: 0.472801\n",
      "[428]\tvalid_0's test_neg_log_likelihood: 0.472715\n",
      "[429]\tvalid_0's test_neg_log_likelihood: 0.472591\n",
      "[430]\tvalid_0's test_neg_log_likelihood: 0.472529\n",
      "[431]\tvalid_0's test_neg_log_likelihood: 0.472405\n",
      "[432]\tvalid_0's test_neg_log_likelihood: 0.472369\n",
      "[433]\tvalid_0's test_neg_log_likelihood: 0.472291\n",
      "[434]\tvalid_0's test_neg_log_likelihood: 0.472183\n",
      "[435]\tvalid_0's test_neg_log_likelihood: 0.472115\n",
      "[436]\tvalid_0's test_neg_log_likelihood: 0.472143\n",
      "[437]\tvalid_0's test_neg_log_likelihood: 0.472081\n",
      "[438]\tvalid_0's test_neg_log_likelihood: 0.471999\n",
      "[439]\tvalid_0's test_neg_log_likelihood: 0.471928\n",
      "[440]\tvalid_0's test_neg_log_likelihood: 0.471949\n",
      "[441]\tvalid_0's test_neg_log_likelihood: 0.471869\n",
      "[442]\tvalid_0's test_neg_log_likelihood: 0.471837\n",
      "[443]\tvalid_0's test_neg_log_likelihood: 0.471673\n",
      "[444]\tvalid_0's test_neg_log_likelihood: 0.471613\n",
      "[445]\tvalid_0's test_neg_log_likelihood: 0.471542\n",
      "[446]\tvalid_0's test_neg_log_likelihood: 0.471466\n",
      "[447]\tvalid_0's test_neg_log_likelihood: 0.471397\n",
      "[448]\tvalid_0's test_neg_log_likelihood: 0.471289\n",
      "[449]\tvalid_0's test_neg_log_likelihood: 0.471254\n",
      "[450]\tvalid_0's test_neg_log_likelihood: 0.471176\n",
      "[451]\tvalid_0's test_neg_log_likelihood: 0.471152\n",
      "[452]\tvalid_0's test_neg_log_likelihood: 0.471057\n",
      "[453]\tvalid_0's test_neg_log_likelihood: 0.47098\n",
      "[454]\tvalid_0's test_neg_log_likelihood: 0.470853\n",
      "[455]\tvalid_0's test_neg_log_likelihood: 0.470767\n",
      "[456]\tvalid_0's test_neg_log_likelihood: 0.470591\n",
      "[457]\tvalid_0's test_neg_log_likelihood: 0.470518\n",
      "[458]\tvalid_0's test_neg_log_likelihood: 0.470453\n",
      "[459]\tvalid_0's test_neg_log_likelihood: 0.470285\n",
      "[460]\tvalid_0's test_neg_log_likelihood: 0.470252\n",
      "[461]\tvalid_0's test_neg_log_likelihood: 0.470176\n",
      "[462]\tvalid_0's test_neg_log_likelihood: 0.470059\n",
      "[463]\tvalid_0's test_neg_log_likelihood: 0.470004\n",
      "[464]\tvalid_0's test_neg_log_likelihood: 0.470027\n",
      "[465]\tvalid_0's test_neg_log_likelihood: 0.469917\n",
      "[466]\tvalid_0's test_neg_log_likelihood: 0.469949\n",
      "[467]\tvalid_0's test_neg_log_likelihood: 0.46988\n",
      "[468]\tvalid_0's test_neg_log_likelihood: 0.469811\n",
      "[469]\tvalid_0's test_neg_log_likelihood: 0.469657\n",
      "[470]\tvalid_0's test_neg_log_likelihood: 0.46961\n",
      "[471]\tvalid_0's test_neg_log_likelihood: 0.469565\n",
      "[472]\tvalid_0's test_neg_log_likelihood: 0.469569\n",
      "[473]\tvalid_0's test_neg_log_likelihood: 0.469518\n",
      "[474]\tvalid_0's test_neg_log_likelihood: 0.469461\n",
      "[475]\tvalid_0's test_neg_log_likelihood: 0.469378\n",
      "[476]\tvalid_0's test_neg_log_likelihood: 0.469343\n",
      "[477]\tvalid_0's test_neg_log_likelihood: 0.469247\n",
      "[478]\tvalid_0's test_neg_log_likelihood: 0.469173\n",
      "[479]\tvalid_0's test_neg_log_likelihood: 0.469156\n",
      "[480]\tvalid_0's test_neg_log_likelihood: 0.469112\n",
      "[481]\tvalid_0's test_neg_log_likelihood: 0.469065\n",
      "[482]\tvalid_0's test_neg_log_likelihood: 0.469109\n",
      "[483]\tvalid_0's test_neg_log_likelihood: 0.469053\n",
      "[484]\tvalid_0's test_neg_log_likelihood: 0.468997\n",
      "[485]\tvalid_0's test_neg_log_likelihood: 0.468951\n",
      "[486]\tvalid_0's test_neg_log_likelihood: 0.468852\n",
      "[487]\tvalid_0's test_neg_log_likelihood: 0.468795\n",
      "[488]\tvalid_0's test_neg_log_likelihood: 0.468649\n",
      "[489]\tvalid_0's test_neg_log_likelihood: 0.468603\n",
      "[490]\tvalid_0's test_neg_log_likelihood: 0.468512\n",
      "[491]\tvalid_0's test_neg_log_likelihood: 0.468453\n",
      "[492]\tvalid_0's test_neg_log_likelihood: 0.468393\n",
      "[493]\tvalid_0's test_neg_log_likelihood: 0.468367\n",
      "[494]\tvalid_0's test_neg_log_likelihood: 0.46832\n",
      "[495]\tvalid_0's test_neg_log_likelihood: 0.468293\n",
      "[496]\tvalid_0's test_neg_log_likelihood: 0.468294\n",
      "[497]\tvalid_0's test_neg_log_likelihood: 0.468234\n",
      "[498]\tvalid_0's test_neg_log_likelihood: 0.468084\n",
      "[499]\tvalid_0's test_neg_log_likelihood: 0.468046\n",
      "[500]\tvalid_0's test_neg_log_likelihood: 0.46802\n",
      "[501]\tvalid_0's test_neg_log_likelihood: 0.467988\n",
      "[502]\tvalid_0's test_neg_log_likelihood: 0.467919\n",
      "[503]\tvalid_0's test_neg_log_likelihood: 0.46782\n",
      "[504]\tvalid_0's test_neg_log_likelihood: 0.467801\n",
      "[505]\tvalid_0's test_neg_log_likelihood: 0.467736\n",
      "[506]\tvalid_0's test_neg_log_likelihood: 0.467721\n",
      "[507]\tvalid_0's test_neg_log_likelihood: 0.467623\n",
      "[508]\tvalid_0's test_neg_log_likelihood: 0.467528\n",
      "[509]\tvalid_0's test_neg_log_likelihood: 0.467579\n",
      "[510]\tvalid_0's test_neg_log_likelihood: 0.467546\n",
      "[511]\tvalid_0's test_neg_log_likelihood: 0.467498\n",
      "[512]\tvalid_0's test_neg_log_likelihood: 0.467358\n",
      "[513]\tvalid_0's test_neg_log_likelihood: 0.467328\n",
      "[514]\tvalid_0's test_neg_log_likelihood: 0.467289\n",
      "[515]\tvalid_0's test_neg_log_likelihood: 0.467333\n",
      "[516]\tvalid_0's test_neg_log_likelihood: 0.467293\n",
      "[517]\tvalid_0's test_neg_log_likelihood: 0.467227\n",
      "[518]\tvalid_0's test_neg_log_likelihood: 0.467199\n",
      "[519]\tvalid_0's test_neg_log_likelihood: 0.467245\n",
      "[520]\tvalid_0's test_neg_log_likelihood: 0.467202\n",
      "[521]\tvalid_0's test_neg_log_likelihood: 0.467174\n",
      "[522]\tvalid_0's test_neg_log_likelihood: 0.467068\n",
      "[523]\tvalid_0's test_neg_log_likelihood: 0.467019\n",
      "[524]\tvalid_0's test_neg_log_likelihood: 0.466965\n",
      "[525]\tvalid_0's test_neg_log_likelihood: 0.466914\n",
      "[526]\tvalid_0's test_neg_log_likelihood: 0.466856\n",
      "[527]\tvalid_0's test_neg_log_likelihood: 0.466753\n",
      "[528]\tvalid_0's test_neg_log_likelihood: 0.466727\n",
      "[529]\tvalid_0's test_neg_log_likelihood: 0.466695\n",
      "[530]\tvalid_0's test_neg_log_likelihood: 0.466629\n",
      "[531]\tvalid_0's test_neg_log_likelihood: 0.466612\n",
      "[532]\tvalid_0's test_neg_log_likelihood: 0.466582\n",
      "[533]\tvalid_0's test_neg_log_likelihood: 0.466525\n",
      "[534]\tvalid_0's test_neg_log_likelihood: 0.46642\n",
      "[535]\tvalid_0's test_neg_log_likelihood: 0.466391\n",
      "[536]\tvalid_0's test_neg_log_likelihood: 0.466338\n",
      "[537]\tvalid_0's test_neg_log_likelihood: 0.466314\n",
      "[538]\tvalid_0's test_neg_log_likelihood: 0.466289\n",
      "[539]\tvalid_0's test_neg_log_likelihood: 0.466215\n",
      "[540]\tvalid_0's test_neg_log_likelihood: 0.466108\n",
      "[541]\tvalid_0's test_neg_log_likelihood: 0.466052\n",
      "[542]\tvalid_0's test_neg_log_likelihood: 0.465998\n",
      "[543]\tvalid_0's test_neg_log_likelihood: 0.465929\n",
      "[544]\tvalid_0's test_neg_log_likelihood: 0.4659\n",
      "[545]\tvalid_0's test_neg_log_likelihood: 0.465844\n",
      "[546]\tvalid_0's test_neg_log_likelihood: 0.465798\n",
      "[547]\tvalid_0's test_neg_log_likelihood: 0.465766\n",
      "[548]\tvalid_0's test_neg_log_likelihood: 0.465694\n",
      "[549]\tvalid_0's test_neg_log_likelihood: 0.465668\n",
      "[550]\tvalid_0's test_neg_log_likelihood: 0.46565\n",
      "[551]\tvalid_0's test_neg_log_likelihood: 0.465627\n",
      "[552]\tvalid_0's test_neg_log_likelihood: 0.465583\n",
      "[553]\tvalid_0's test_neg_log_likelihood: 0.465565\n",
      "[554]\tvalid_0's test_neg_log_likelihood: 0.465475\n",
      "[555]\tvalid_0's test_neg_log_likelihood: 0.465413\n",
      "[556]\tvalid_0's test_neg_log_likelihood: 0.465378\n",
      "[557]\tvalid_0's test_neg_log_likelihood: 0.465309\n",
      "[558]\tvalid_0's test_neg_log_likelihood: 0.465292\n",
      "[559]\tvalid_0's test_neg_log_likelihood: 0.46524\n",
      "[560]\tvalid_0's test_neg_log_likelihood: 0.465217\n",
      "[561]\tvalid_0's test_neg_log_likelihood: 0.465137\n",
      "[562]\tvalid_0's test_neg_log_likelihood: 0.465051\n",
      "[563]\tvalid_0's test_neg_log_likelihood: 0.464987\n",
      "[564]\tvalid_0's test_neg_log_likelihood: 0.464885\n",
      "[565]\tvalid_0's test_neg_log_likelihood: 0.464894\n",
      "[566]\tvalid_0's test_neg_log_likelihood: 0.464816\n",
      "[567]\tvalid_0's test_neg_log_likelihood: 0.464695\n",
      "[568]\tvalid_0's test_neg_log_likelihood: 0.464685\n",
      "[569]\tvalid_0's test_neg_log_likelihood: 0.464648\n",
      "[570]\tvalid_0's test_neg_log_likelihood: 0.464619\n",
      "[571]\tvalid_0's test_neg_log_likelihood: 0.464559\n",
      "[572]\tvalid_0's test_neg_log_likelihood: 0.464526\n",
      "[573]\tvalid_0's test_neg_log_likelihood: 0.464523\n",
      "[574]\tvalid_0's test_neg_log_likelihood: 0.464473\n",
      "[575]\tvalid_0's test_neg_log_likelihood: 0.464431\n",
      "[576]\tvalid_0's test_neg_log_likelihood: 0.464379\n",
      "[577]\tvalid_0's test_neg_log_likelihood: 0.464264\n",
      "[578]\tvalid_0's test_neg_log_likelihood: 0.464223\n",
      "[579]\tvalid_0's test_neg_log_likelihood: 0.464196\n",
      "[580]\tvalid_0's test_neg_log_likelihood: 0.464081\n",
      "[581]\tvalid_0's test_neg_log_likelihood: 0.464059\n",
      "[582]\tvalid_0's test_neg_log_likelihood: 0.464029\n",
      "[583]\tvalid_0's test_neg_log_likelihood: 0.464007\n",
      "[584]\tvalid_0's test_neg_log_likelihood: 0.463893\n",
      "[585]\tvalid_0's test_neg_log_likelihood: 0.46385\n",
      "[586]\tvalid_0's test_neg_log_likelihood: 0.463818\n",
      "[587]\tvalid_0's test_neg_log_likelihood: 0.463799\n",
      "[588]\tvalid_0's test_neg_log_likelihood: 0.463782\n",
      "[589]\tvalid_0's test_neg_log_likelihood: 0.463677\n",
      "[590]\tvalid_0's test_neg_log_likelihood: 0.463658\n",
      "[591]\tvalid_0's test_neg_log_likelihood: 0.463729\n",
      "[592]\tvalid_0's test_neg_log_likelihood: 0.463705\n",
      "[593]\tvalid_0's test_neg_log_likelihood: 0.463713\n",
      "[594]\tvalid_0's test_neg_log_likelihood: 0.463605\n",
      "[595]\tvalid_0's test_neg_log_likelihood: 0.463539\n",
      "[596]\tvalid_0's test_neg_log_likelihood: 0.463475\n",
      "[597]\tvalid_0's test_neg_log_likelihood: 0.463438\n",
      "[598]\tvalid_0's test_neg_log_likelihood: 0.463412\n",
      "[599]\tvalid_0's test_neg_log_likelihood: 0.463397\n",
      "[600]\tvalid_0's test_neg_log_likelihood: 0.463367\n",
      "[601]\tvalid_0's test_neg_log_likelihood: 0.463335\n",
      "[602]\tvalid_0's test_neg_log_likelihood: 0.463311\n",
      "[603]\tvalid_0's test_neg_log_likelihood: 0.463265\n",
      "[604]\tvalid_0's test_neg_log_likelihood: 0.463252\n",
      "[605]\tvalid_0's test_neg_log_likelihood: 0.463239\n",
      "[606]\tvalid_0's test_neg_log_likelihood: 0.463195\n",
      "[607]\tvalid_0's test_neg_log_likelihood: 0.46319\n",
      "[608]\tvalid_0's test_neg_log_likelihood: 0.463173\n",
      "[609]\tvalid_0's test_neg_log_likelihood: 0.463166\n",
      "[610]\tvalid_0's test_neg_log_likelihood: 0.463141\n",
      "[611]\tvalid_0's test_neg_log_likelihood: 0.4631\n",
      "[612]\tvalid_0's test_neg_log_likelihood: 0.463097\n",
      "[613]\tvalid_0's test_neg_log_likelihood: 0.463066\n",
      "[614]\tvalid_0's test_neg_log_likelihood: 0.463033\n",
      "[615]\tvalid_0's test_neg_log_likelihood: 0.46297\n",
      "[616]\tvalid_0's test_neg_log_likelihood: 0.462929\n",
      "[617]\tvalid_0's test_neg_log_likelihood: 0.462908\n",
      "[618]\tvalid_0's test_neg_log_likelihood: 0.462846\n",
      "[619]\tvalid_0's test_neg_log_likelihood: 0.4628\n",
      "[620]\tvalid_0's test_neg_log_likelihood: 0.462775\n",
      "[621]\tvalid_0's test_neg_log_likelihood: 0.462765\n",
      "[622]\tvalid_0's test_neg_log_likelihood: 0.462763\n",
      "[623]\tvalid_0's test_neg_log_likelihood: 0.462741\n",
      "[624]\tvalid_0's test_neg_log_likelihood: 0.462681\n",
      "[625]\tvalid_0's test_neg_log_likelihood: 0.462681\n",
      "[626]\tvalid_0's test_neg_log_likelihood: 0.462668\n",
      "[627]\tvalid_0's test_neg_log_likelihood: 0.462595\n",
      "[628]\tvalid_0's test_neg_log_likelihood: 0.462558\n",
      "[629]\tvalid_0's test_neg_log_likelihood: 0.462493\n",
      "[630]\tvalid_0's test_neg_log_likelihood: 0.462456\n",
      "[631]\tvalid_0's test_neg_log_likelihood: 0.462451\n",
      "[632]\tvalid_0's test_neg_log_likelihood: 0.462432\n",
      "[633]\tvalid_0's test_neg_log_likelihood: 0.462377\n",
      "[634]\tvalid_0's test_neg_log_likelihood: 0.462347\n",
      "[635]\tvalid_0's test_neg_log_likelihood: 0.462334\n",
      "[636]\tvalid_0's test_neg_log_likelihood: 0.462262\n",
      "[637]\tvalid_0's test_neg_log_likelihood: 0.462216\n",
      "[638]\tvalid_0's test_neg_log_likelihood: 0.462189\n",
      "[639]\tvalid_0's test_neg_log_likelihood: 0.462147\n",
      "[640]\tvalid_0's test_neg_log_likelihood: 0.462129\n",
      "[641]\tvalid_0's test_neg_log_likelihood: 0.462113\n",
      "[642]\tvalid_0's test_neg_log_likelihood: 0.462089\n",
      "[643]\tvalid_0's test_neg_log_likelihood: 0.462027\n",
      "[644]\tvalid_0's test_neg_log_likelihood: 0.462002\n",
      "[645]\tvalid_0's test_neg_log_likelihood: 0.461966\n",
      "[646]\tvalid_0's test_neg_log_likelihood: 0.461978\n",
      "[647]\tvalid_0's test_neg_log_likelihood: 0.461968\n",
      "[648]\tvalid_0's test_neg_log_likelihood: 0.461945\n",
      "[649]\tvalid_0's test_neg_log_likelihood: 0.461932\n",
      "[650]\tvalid_0's test_neg_log_likelihood: 0.461913\n",
      "[651]\tvalid_0's test_neg_log_likelihood: 0.461896\n",
      "[652]\tvalid_0's test_neg_log_likelihood: 0.461913\n",
      "[653]\tvalid_0's test_neg_log_likelihood: 0.461897\n",
      "[654]\tvalid_0's test_neg_log_likelihood: 0.461833\n",
      "[655]\tvalid_0's test_neg_log_likelihood: 0.461761\n",
      "[656]\tvalid_0's test_neg_log_likelihood: 0.461731\n",
      "[657]\tvalid_0's test_neg_log_likelihood: 0.461718\n",
      "[658]\tvalid_0's test_neg_log_likelihood: 0.461692\n",
      "[659]\tvalid_0's test_neg_log_likelihood: 0.461623\n",
      "[660]\tvalid_0's test_neg_log_likelihood: 0.461599\n",
      "[661]\tvalid_0's test_neg_log_likelihood: 0.461555\n",
      "[662]\tvalid_0's test_neg_log_likelihood: 0.461534\n",
      "[663]\tvalid_0's test_neg_log_likelihood: 0.461471\n",
      "[664]\tvalid_0's test_neg_log_likelihood: 0.46144\n",
      "[665]\tvalid_0's test_neg_log_likelihood: 0.461441\n",
      "[666]\tvalid_0's test_neg_log_likelihood: 0.46142\n",
      "[667]\tvalid_0's test_neg_log_likelihood: 0.461376\n",
      "[668]\tvalid_0's test_neg_log_likelihood: 0.461357\n",
      "[669]\tvalid_0's test_neg_log_likelihood: 0.461291\n",
      "[670]\tvalid_0's test_neg_log_likelihood: 0.461252\n",
      "[671]\tvalid_0's test_neg_log_likelihood: 0.461233\n",
      "[672]\tvalid_0's test_neg_log_likelihood: 0.46121\n",
      "[673]\tvalid_0's test_neg_log_likelihood: 0.461188\n",
      "[674]\tvalid_0's test_neg_log_likelihood: 0.46111\n",
      "[675]\tvalid_0's test_neg_log_likelihood: 0.461085\n",
      "[676]\tvalid_0's test_neg_log_likelihood: 0.461073\n",
      "[677]\tvalid_0's test_neg_log_likelihood: 0.46101\n",
      "[678]\tvalid_0's test_neg_log_likelihood: 0.460969\n",
      "[679]\tvalid_0's test_neg_log_likelihood: 0.46095\n",
      "[680]\tvalid_0's test_neg_log_likelihood: 0.460933\n",
      "[681]\tvalid_0's test_neg_log_likelihood: 0.460872\n",
      "[682]\tvalid_0's test_neg_log_likelihood: 0.460846\n",
      "[683]\tvalid_0's test_neg_log_likelihood: 0.46084\n",
      "[684]\tvalid_0's test_neg_log_likelihood: 0.460816\n",
      "[685]\tvalid_0's test_neg_log_likelihood: 0.460746\n",
      "[686]\tvalid_0's test_neg_log_likelihood: 0.460719\n",
      "[687]\tvalid_0's test_neg_log_likelihood: 0.460703\n",
      "[688]\tvalid_0's test_neg_log_likelihood: 0.460679\n",
      "[689]\tvalid_0's test_neg_log_likelihood: 0.460653\n",
      "[690]\tvalid_0's test_neg_log_likelihood: 0.460592\n",
      "[691]\tvalid_0's test_neg_log_likelihood: 0.460599\n",
      "[692]\tvalid_0's test_neg_log_likelihood: 0.460599\n",
      "[693]\tvalid_0's test_neg_log_likelihood: 0.46058\n",
      "[694]\tvalid_0's test_neg_log_likelihood: 0.460561\n",
      "[695]\tvalid_0's test_neg_log_likelihood: 0.460513\n",
      "[696]\tvalid_0's test_neg_log_likelihood: 0.4605\n",
      "[697]\tvalid_0's test_neg_log_likelihood: 0.460475\n",
      "[698]\tvalid_0's test_neg_log_likelihood: 0.460457\n",
      "[699]\tvalid_0's test_neg_log_likelihood: 0.46039\n",
      "[700]\tvalid_0's test_neg_log_likelihood: 0.460332\n",
      "[701]\tvalid_0's test_neg_log_likelihood: 0.460298\n",
      "[702]\tvalid_0's test_neg_log_likelihood: 0.46026\n",
      "[703]\tvalid_0's test_neg_log_likelihood: 0.460235\n",
      "[704]\tvalid_0's test_neg_log_likelihood: 0.460217\n",
      "[705]\tvalid_0's test_neg_log_likelihood: 0.460169\n",
      "[706]\tvalid_0's test_neg_log_likelihood: 0.460163\n",
      "[707]\tvalid_0's test_neg_log_likelihood: 0.460165\n",
      "[708]\tvalid_0's test_neg_log_likelihood: 0.460143\n",
      "[709]\tvalid_0's test_neg_log_likelihood: 0.460117\n",
      "[710]\tvalid_0's test_neg_log_likelihood: 0.460109\n",
      "[711]\tvalid_0's test_neg_log_likelihood: 0.460108\n",
      "[712]\tvalid_0's test_neg_log_likelihood: 0.460052\n",
      "[713]\tvalid_0's test_neg_log_likelihood: 0.460053\n",
      "[714]\tvalid_0's test_neg_log_likelihood: 0.460047\n",
      "[715]\tvalid_0's test_neg_log_likelihood: 0.460015\n",
      "[716]\tvalid_0's test_neg_log_likelihood: 0.460006\n",
      "[717]\tvalid_0's test_neg_log_likelihood: 0.459986\n",
      "[718]\tvalid_0's test_neg_log_likelihood: 0.460003\n",
      "[719]\tvalid_0's test_neg_log_likelihood: 0.460017\n",
      "[720]\tvalid_0's test_neg_log_likelihood: 0.459988\n",
      "[721]\tvalid_0's test_neg_log_likelihood: 0.459987\n",
      "[722]\tvalid_0's test_neg_log_likelihood: 0.459962\n",
      "[723]\tvalid_0's test_neg_log_likelihood: 0.459878\n",
      "[724]\tvalid_0's test_neg_log_likelihood: 0.459862\n",
      "[725]\tvalid_0's test_neg_log_likelihood: 0.45987\n",
      "[726]\tvalid_0's test_neg_log_likelihood: 0.45986\n",
      "[727]\tvalid_0's test_neg_log_likelihood: 0.459879\n",
      "[728]\tvalid_0's test_neg_log_likelihood: 0.459858\n",
      "[729]\tvalid_0's test_neg_log_likelihood: 0.45986\n",
      "[730]\tvalid_0's test_neg_log_likelihood: 0.459852\n",
      "[731]\tvalid_0's test_neg_log_likelihood: 0.459818\n",
      "[732]\tvalid_0's test_neg_log_likelihood: 0.459772\n",
      "[733]\tvalid_0's test_neg_log_likelihood: 0.459765\n",
      "[734]\tvalid_0's test_neg_log_likelihood: 0.459783\n",
      "[735]\tvalid_0's test_neg_log_likelihood: 0.459761\n",
      "[736]\tvalid_0's test_neg_log_likelihood: 0.459757\n",
      "[737]\tvalid_0's test_neg_log_likelihood: 0.459743\n",
      "[738]\tvalid_0's test_neg_log_likelihood: 0.459761\n",
      "[739]\tvalid_0's test_neg_log_likelihood: 0.459737\n",
      "[740]\tvalid_0's test_neg_log_likelihood: 0.459717\n",
      "[741]\tvalid_0's test_neg_log_likelihood: 0.459738\n",
      "[742]\tvalid_0's test_neg_log_likelihood: 0.459728\n",
      "[743]\tvalid_0's test_neg_log_likelihood: 0.459709\n",
      "[744]\tvalid_0's test_neg_log_likelihood: 0.459717\n",
      "[745]\tvalid_0's test_neg_log_likelihood: 0.459745\n",
      "[746]\tvalid_0's test_neg_log_likelihood: 0.459736\n",
      "[747]\tvalid_0's test_neg_log_likelihood: 0.459733\n",
      "[748]\tvalid_0's test_neg_log_likelihood: 0.459753\n",
      "[749]\tvalid_0's test_neg_log_likelihood: 0.459753\n",
      "[750]\tvalid_0's test_neg_log_likelihood: 0.459733\n",
      "[751]\tvalid_0's test_neg_log_likelihood: 0.459723\n",
      "[752]\tvalid_0's test_neg_log_likelihood: 0.459692\n",
      "[753]\tvalid_0's test_neg_log_likelihood: 0.459693\n",
      "[754]\tvalid_0's test_neg_log_likelihood: 0.459654\n",
      "[755]\tvalid_0's test_neg_log_likelihood: 0.459633\n",
      "[756]\tvalid_0's test_neg_log_likelihood: 0.459675\n",
      "[757]\tvalid_0's test_neg_log_likelihood: 0.45967\n",
      "[758]\tvalid_0's test_neg_log_likelihood: 0.459672\n",
      "[759]\tvalid_0's test_neg_log_likelihood: 0.459662\n",
      "[760]\tvalid_0's test_neg_log_likelihood: 0.45967\n",
      "[761]\tvalid_0's test_neg_log_likelihood: 0.459653\n",
      "[762]\tvalid_0's test_neg_log_likelihood: 0.459639\n",
      "[763]\tvalid_0's test_neg_log_likelihood: 0.459625\n",
      "[764]\tvalid_0's test_neg_log_likelihood: 0.459614\n",
      "[765]\tvalid_0's test_neg_log_likelihood: 0.459645\n",
      "[766]\tvalid_0's test_neg_log_likelihood: 0.459648\n",
      "[767]\tvalid_0's test_neg_log_likelihood: 0.459605\n",
      "[768]\tvalid_0's test_neg_log_likelihood: 0.459606\n",
      "[769]\tvalid_0's test_neg_log_likelihood: 0.459637\n",
      "[770]\tvalid_0's test_neg_log_likelihood: 0.459594\n",
      "[771]\tvalid_0's test_neg_log_likelihood: 0.459571\n",
      "[772]\tvalid_0's test_neg_log_likelihood: 0.45957\n",
      "[773]\tvalid_0's test_neg_log_likelihood: 0.459606\n",
      "[774]\tvalid_0's test_neg_log_likelihood: 0.459577\n",
      "[775]\tvalid_0's test_neg_log_likelihood: 0.459565\n",
      "[776]\tvalid_0's test_neg_log_likelihood: 0.459551\n",
      "[777]\tvalid_0's test_neg_log_likelihood: 0.459547\n",
      "[778]\tvalid_0's test_neg_log_likelihood: 0.45953\n",
      "[779]\tvalid_0's test_neg_log_likelihood: 0.459523\n",
      "[780]\tvalid_0's test_neg_log_likelihood: 0.459485\n",
      "[781]\tvalid_0's test_neg_log_likelihood: 0.459483\n",
      "[782]\tvalid_0's test_neg_log_likelihood: 0.459528\n",
      "[783]\tvalid_0's test_neg_log_likelihood: 0.459539\n",
      "[784]\tvalid_0's test_neg_log_likelihood: 0.459549\n",
      "[785]\tvalid_0's test_neg_log_likelihood: 0.459537\n",
      "[786]\tvalid_0's test_neg_log_likelihood: 0.459512\n",
      "[787]\tvalid_0's test_neg_log_likelihood: 0.459522\n",
      "[788]\tvalid_0's test_neg_log_likelihood: 0.459492\n",
      "[789]\tvalid_0's test_neg_log_likelihood: 0.459455\n",
      "[790]\tvalid_0's test_neg_log_likelihood: 0.459461\n",
      "[791]\tvalid_0's test_neg_log_likelihood: 0.459427\n",
      "[792]\tvalid_0's test_neg_log_likelihood: 0.459419\n",
      "[793]\tvalid_0's test_neg_log_likelihood: 0.459421\n",
      "[794]\tvalid_0's test_neg_log_likelihood: 0.45947\n",
      "[795]\tvalid_0's test_neg_log_likelihood: 0.459464\n",
      "[796]\tvalid_0's test_neg_log_likelihood: 0.459483\n",
      "[797]\tvalid_0's test_neg_log_likelihood: 0.459503\n",
      "[798]\tvalid_0's test_neg_log_likelihood: 0.459513\n",
      "[799]\tvalid_0's test_neg_log_likelihood: 0.459516\n",
      "[800]\tvalid_0's test_neg_log_likelihood: 0.459557\n",
      "Did not meet early stopping. Best iteration is:\n",
      "[792]\tvalid_0's test_neg_log_likelihood: 0.459419\n"
     ]
    }
   ],
   "source": [
    "final_gpb_model = GPBoost_engine(X_train_resampled, group_train_resampled, y_train_resampled, X_val, y_val, group_val)"
   ]
  },
  {
   "cell_type": "code",
   "execution_count": 13,
   "metadata": {},
   "outputs": [
    {
     "name": "stdout",
     "output_type": "stream",
     "text": [
      "[[30369  2694]\n",
      " [ 4352 20268]]\n"
     ]
    },
    {
     "data": {
      "image/png": "[encoded data removed]",
      "text/plain": [
       "<Figure size 400x300 with 2 Axes>"
      ]
     },
     "metadata": {},
     "output_type": "display_data"
    },
    {
     "name": "stdout",
     "output_type": "stream",
     "text": [
      "[[9096 1306]\n",
      " [1081 5466]]\n"
     ]
    },
    {
     "data": {
      "image/png": "[encoded data removed]",
      "text/plain": [
       "<Figure size 400x300 with 2 Axes>"
      ]
     },
     "metadata": {},
     "output_type": "display_data"
    },
    {
     "data": {
      "text/html": [
       "<div>\n",
       "<style scoped>\n",
       "    .dataframe tbody tr th:only-of-type {\n",
       "        vertical-align: middle;\n",
       "    }\n",
       "\n",
       "    .dataframe tbody tr th {\n",
       "        vertical-align: top;\n",
       "    }\n",
       "\n",
       "    .dataframe thead th {\n",
       "        text-align: right;\n",
       "    }\n",
       "</style>\n",
       "<table border=\"1\" class=\"dataframe\">\n",
       "  <thead>\n",
       "    <tr style=\"text-align: right;\">\n",
       "      <th></th>\n",
       "      <th>Model</th>\n",
       "      <th>Precision</th>\n",
       "      <th>Recall</th>\n",
       "      <th>F1 Score</th>\n",
       "      <th>Specificity</th>\n",
       "      <th>AUROC</th>\n",
       "      <th>AUPRC</th>\n",
       "      <th>Accuracy</th>\n",
       "      <th>Cohen's Kappa</th>\n",
       "    </tr>\n",
       "  </thead>\n",
       "  <tbody>\n",
       "    <tr>\n",
       "      <th>0</th>\n",
       "      <td>GPBoost</td>\n",
       "      <td>0.807147</td>\n",
       "      <td>0.834886</td>\n",
       "      <td>0.820782</td>\n",
       "      <td>0.874447</td>\n",
       "      <td>0.928169</td>\n",
       "      <td>0.907894</td>\n",
       "      <td>0.859166</td>\n",
       "      <td>0.698573</td>\n",
       "    </tr>\n",
       "  </tbody>\n",
       "</table>\n",
       "</div>"
      ],
      "text/plain": [
       "     Model  Precision    Recall  F1 Score  Specificity     AUROC     AUPRC  Accuracy  Cohen's Kappa\n",
       "0  GPBoost   0.807147  0.834886  0.820782     0.874447  0.928169  0.907894  0.859166       0.698573"
      ]
     },
     "execution_count": 13,
     "metadata": {},
     "output_type": "execute_result"
    }
   ],
   "source": [
    "# calculate training scores\n",
    "prob_ls_train, len_train, true_ls_train = compute_probabilities(\n",
    "    train_sids, SW_df, final_features, 'gpb', final_gpb_model, group_variable)\n",
    "gpb_train_results_df = GPBoost_result(final_gpb_model, X_train, y_train, group_train, prob_ls_train, true_ls_train)\n",
    "\n",
    "# calculate testing scores\n",
    "prob_ls_test, len_test, true_ls_test = compute_probabilities(\n",
    "    test_sids, SW_df, final_features, 'gpb', final_gpb_model, group_variable)\n",
    "gpb_test_results_df = GPBoost_result(final_gpb_model, X_test, y_test, group_test, prob_ls_test, true_ls_test)\n",
    "gpb_test_results_df"
   ]
  },
  {
   "cell_type": "markdown",
   "metadata": {},
   "source": [
    "### GPBoost + LSTM post processing"
   ]
  },
  {
   "cell_type": "code",
   "execution_count": 14,
   "metadata": {},
   "outputs": [
    {
     "name": "stdout",
     "output_type": "stream",
     "text": [
      "Training on cuda:0\n"
     ]
    },
    {
     "name": "stderr",
     "output_type": "stream",
     "text": [
      "dropout option adds dropout after all but last recurrent layer, so non-zero dropout expects num_layers greater than 1, but got dropout=0.5 and num_layers=1\n"
     ]
    },
    {
     "name": "stdout",
     "output_type": "stream",
     "text": [
      "Epoch 5/300 - Loss: 0.6549, Accuracy: 0.6254\n",
      "Epoch 10/300 - Loss: 0.6192, Accuracy: 0.6254\n",
      "Epoch 15/300 - Loss: 0.5561, Accuracy: 0.8103\n",
      "Epoch 20/300 - Loss: 0.4094, Accuracy: 0.8947\n",
      "Epoch 25/300 - Loss: 0.3413, Accuracy: 0.8960\n",
      "Epoch 30/300 - Loss: 0.3329, Accuracy: 0.8995\n",
      "Epoch 35/300 - Loss: 0.3107, Accuracy: 0.9070\n",
      "Epoch 40/300 - Loss: 0.3040, Accuracy: 0.9063\n",
      "Epoch 45/300 - Loss: 0.3002, Accuracy: 0.9074\n",
      "Epoch 50/300 - Loss: 0.2969, Accuracy: 0.9076\n",
      "Epoch 55/300 - Loss: 0.2941, Accuracy: 0.9077\n",
      "Epoch 60/300 - Loss: 0.2917, Accuracy: 0.9079\n",
      "Epoch 65/300 - Loss: 0.2895, Accuracy: 0.9080\n",
      "Epoch 70/300 - Loss: 0.2876, Accuracy: 0.9081\n",
      "Epoch 75/300 - Loss: 0.2858, Accuracy: 0.9082\n",
      "Epoch 80/300 - Loss: 0.2841, Accuracy: 0.9082\n",
      "Epoch 85/300 - Loss: 0.2824, Accuracy: 0.9085\n",
      "Epoch 90/300 - Loss: 0.2807, Accuracy: 0.9089\n",
      "Epoch 95/300 - Loss: 0.2789, Accuracy: 0.9096\n",
      "Epoch 100/300 - Loss: 0.2769, Accuracy: 0.9095\n",
      "Epoch 105/300 - Loss: 0.2746, Accuracy: 0.9096\n",
      "Epoch 110/300 - Loss: 0.2730, Accuracy: 0.9099\n",
      "Epoch 115/300 - Loss: 0.2714, Accuracy: 0.9106\n",
      "Epoch 120/300 - Loss: 0.2698, Accuracy: 0.9107\n",
      "Epoch 125/300 - Loss: 0.2683, Accuracy: 0.9112\n",
      "Epoch 130/300 - Loss: 0.2670, Accuracy: 0.9114\n",
      "Epoch 135/300 - Loss: 0.2658, Accuracy: 0.9116\n",
      "Epoch 140/300 - Loss: 0.2646, Accuracy: 0.9117\n",
      "Epoch 145/300 - Loss: 0.2635, Accuracy: 0.9118\n",
      "Epoch 150/300 - Loss: 0.2625, Accuracy: 0.9119\n",
      "Epoch 155/300 - Loss: 0.2615, Accuracy: 0.9121\n",
      "Epoch 160/300 - Loss: 0.2606, Accuracy: 0.9122\n",
      "Epoch 165/300 - Loss: 0.2596, Accuracy: 0.9122\n",
      "Epoch 170/300 - Loss: 0.2588, Accuracy: 0.9122\n",
      "Epoch 175/300 - Loss: 0.2579, Accuracy: 0.9121\n",
      "Epoch 180/300 - Loss: 0.2571, Accuracy: 0.9120\n",
      "Epoch 185/300 - Loss: 0.2562, Accuracy: 0.9120\n",
      "Epoch 190/300 - Loss: 0.2554, Accuracy: 0.9121\n",
      "Epoch 195/300 - Loss: 0.2545, Accuracy: 0.9122\n",
      "Epoch 200/300 - Loss: 0.2535, Accuracy: 0.9121\n",
      "Epoch 205/300 - Loss: 0.2525, Accuracy: 0.9123\n",
      "Epoch 210/300 - Loss: 0.2516, Accuracy: 0.9126\n",
      "Epoch 215/300 - Loss: 0.2509, Accuracy: 0.9129\n",
      "Epoch 220/300 - Loss: 0.2519, Accuracy: 0.9119\n",
      "Epoch 225/300 - Loss: 0.2549, Accuracy: 0.9110\n",
      "Epoch 230/300 - Loss: 0.2516, Accuracy: 0.9106\n",
      "Epoch 235/300 - Loss: 0.2502, Accuracy: 0.9117\n",
      "Epoch 240/300 - Loss: 0.2482, Accuracy: 0.9120\n",
      "Epoch 245/300 - Loss: 0.2477, Accuracy: 0.9125\n",
      "Epoch 250/300 - Loss: 0.2464, Accuracy: 0.9131\n",
      "Epoch 255/300 - Loss: 0.2453, Accuracy: 0.9132\n",
      "Epoch 260/300 - Loss: 0.2444, Accuracy: 0.9137\n",
      "Epoch 265/300 - Loss: 0.2545, Accuracy: 0.9078\n",
      "Epoch 270/300 - Loss: 0.2541, Accuracy: 0.9082\n",
      "Epoch 275/300 - Loss: 0.2514, Accuracy: 0.9091\n",
      "Epoch 280/300 - Loss: 0.2491, Accuracy: 0.9099\n",
      "Epoch 285/300 - Loss: 0.2466, Accuracy: 0.9109\n",
      "Epoch 290/300 - Loss: 0.2445, Accuracy: 0.9122\n",
      "Epoch 295/300 - Loss: 0.2428, Accuracy: 0.9122\n",
      "Epoch 300/300 - Loss: 0.2414, Accuracy: 0.9124\n"
     ]
    }
   ],
   "source": [
    "dataloader_train = LSTM_dataloader(\n",
    "    prob_ls_train, len_train, true_ls_train, batch_size=32\n",
    ")\n",
    "\n",
    "# Run LSTM model\n",
    "LSTM_model = LSTM_engine(dataloader_train, num_epoch=300, hidden_layer_size=32, learning_rate = 0.001) # set your num_epoch"
   ]
  },
  {
   "cell_type": "code",
   "execution_count": 15,
   "metadata": {},
   "outputs": [
    {
     "name": "stdout",
     "output_type": "stream",
     "text": [
      "[[9320 1082]\n",
      " [ 824 5723]]\n"
     ]
    },
    {
     "data": {
      "image/png": "[encoded data removed]",
      "text/plain": [
       "<Figure size 400x300 with 2 Axes>"
      ]
     },
     "metadata": {},
     "output_type": "display_data"
    },
    {
     "data": {
      "text/html": [
       "<div>\n",
       "<style scoped>\n",
       "    .dataframe tbody tr th:only-of-type {\n",
       "        vertical-align: middle;\n",
       "    }\n",
       "\n",
       "    .dataframe tbody tr th {\n",
       "        vertical-align: top;\n",
       "    }\n",
       "\n",
       "    .dataframe thead th {\n",
       "        text-align: right;\n",
       "    }\n",
       "</style>\n",
       "<table border=\"1\" class=\"dataframe\">\n",
       "  <thead>\n",
       "    <tr style=\"text-align: right;\">\n",
       "      <th></th>\n",
       "      <th>Model</th>\n",
       "      <th>Precision</th>\n",
       "      <th>Recall</th>\n",
       "      <th>F1 Score</th>\n",
       "      <th>Specificity</th>\n",
       "      <th>AUROC</th>\n",
       "      <th>AUPRC</th>\n",
       "      <th>Accuracy</th>\n",
       "      <th>Cohen's Kappa</th>\n",
       "    </tr>\n",
       "  </thead>\n",
       "  <tbody>\n",
       "    <tr>\n",
       "      <th>0</th>\n",
       "      <td>GPBoost_LSTM</td>\n",
       "      <td>0.840999</td>\n",
       "      <td>0.874141</td>\n",
       "      <td>0.85725</td>\n",
       "      <td>0.895982</td>\n",
       "      <td>0.942558</td>\n",
       "      <td>0.915506</td>\n",
       "      <td>0.887545</td>\n",
       "      <td>0.761084</td>\n",
       "    </tr>\n",
       "  </tbody>\n",
       "</table>\n",
       "</div>"
      ],
      "text/plain": [
       "          Model  Precision    Recall  F1 Score  Specificity     AUROC     AUPRC  Accuracy  Cohen's Kappa\n",
       "0  GPBoost_LSTM   0.840999  0.874141   0.85725     0.895982  0.942558  0.915506  0.887545       0.761084"
      ]
     },
     "execution_count": 15,
     "metadata": {},
     "output_type": "execute_result"
    }
   ],
   "source": [
    "dataloader_test = LSTM_dataloader(\n",
    "    prob_ls_test, len_test, true_ls_test, batch_size=1\n",
    ")\n",
    "\n",
    "gpb_lstm_test_results_df = LSTM_eval(LSTM_model, dataloader_test, true_ls_test, 'GPBoost_LSTM')\n",
    "gpb_lstm_test_results_df"
   ]
  },
  {
   "cell_type": "code",
   "execution_count": 16,
   "metadata": {},
   "outputs": [
    {
     "name": "stdout",
     "output_type": "stream",
     "text": [
      "['AHI_Severity']\n"
     ]
    },
    {
     "data": {
      "text/html": [
       "<div>\n",
       "<style scoped>\n",
       "    .dataframe tbody tr th:only-of-type {\n",
       "        vertical-align: middle;\n",
       "    }\n",
       "\n",
       "    .dataframe tbody tr th {\n",
       "        vertical-align: top;\n",
       "    }\n",
       "\n",
       "    .dataframe thead th {\n",
       "        text-align: right;\n",
       "    }\n",
       "</style>\n",
       "<table border=\"1\" class=\"dataframe\">\n",
       "  <thead>\n",
       "    <tr style=\"text-align: right;\">\n",
       "      <th></th>\n",
       "      <th>Model</th>\n",
       "      <th>Precision</th>\n",
       "      <th>Recall</th>\n",
       "      <th>F1 Score</th>\n",
       "      <th>Specificity</th>\n",
       "      <th>AUROC</th>\n",
       "      <th>AUPRC</th>\n",
       "      <th>Accuracy</th>\n",
       "      <th>Cohen's Kappa</th>\n",
       "    </tr>\n",
       "  </thead>\n",
       "  <tbody>\n",
       "    <tr>\n",
       "      <th>0</th>\n",
       "      <td>LightGBM</td>\n",
       "      <td>0.772759</td>\n",
       "      <td>0.854437</td>\n",
       "      <td>0.811548</td>\n",
       "      <td>0.841857</td>\n",
       "      <td>0.925547</td>\n",
       "      <td>0.903694</td>\n",
       "      <td>0.846717</td>\n",
       "      <td>0.675096</td>\n",
       "    </tr>\n",
       "    <tr>\n",
       "      <th>0</th>\n",
       "      <td>LightGBM_LSTM</td>\n",
       "      <td>0.806598</td>\n",
       "      <td>0.866351</td>\n",
       "      <td>0.835408</td>\n",
       "      <td>0.869256</td>\n",
       "      <td>0.936992</td>\n",
       "      <td>0.914593</td>\n",
       "      <td>0.868134</td>\n",
       "      <td>0.720640</td>\n",
       "    </tr>\n",
       "    <tr>\n",
       "      <th>0</th>\n",
       "      <td>GPBoost</td>\n",
       "      <td>0.807147</td>\n",
       "      <td>0.834886</td>\n",
       "      <td>0.820782</td>\n",
       "      <td>0.874447</td>\n",
       "      <td>0.928169</td>\n",
       "      <td>0.907894</td>\n",
       "      <td>0.859166</td>\n",
       "      <td>0.698573</td>\n",
       "    </tr>\n",
       "    <tr>\n",
       "      <th>0</th>\n",
       "      <td>GPBoost_LSTM</td>\n",
       "      <td>0.840999</td>\n",
       "      <td>0.874141</td>\n",
       "      <td>0.857250</td>\n",
       "      <td>0.895982</td>\n",
       "      <td>0.942558</td>\n",
       "      <td>0.915506</td>\n",
       "      <td>0.887545</td>\n",
       "      <td>0.761084</td>\n",
       "    </tr>\n",
       "  </tbody>\n",
       "</table>\n",
       "</div>"
      ],
      "text/plain": [
       "           Model  Precision    Recall  F1 Score  Specificity     AUROC     AUPRC  Accuracy  Cohen's Kappa\n",
       "0       LightGBM   0.772759  0.854437  0.811548     0.841857  0.925547  0.903694  0.846717       0.675096\n",
       "0  LightGBM_LSTM   0.806598  0.866351  0.835408     0.869256  0.936992  0.914593  0.868134       0.720640\n",
       "0        GPBoost   0.807147  0.834886  0.820782     0.874447  0.928169  0.907894  0.859166       0.698573\n",
       "0   GPBoost_LSTM   0.840999  0.874141  0.857250     0.895982  0.942558  0.915506  0.887545       0.761084"
      ]
     },
     "execution_count": 16,
     "metadata": {},
     "output_type": "execute_result"
    }
   ],
   "source": [
    "overall_result = pd.concat([lgb_test_results_df, lgb_lstm_test_results_df, \n",
    "                            gpb_test_results_df, gpb_lstm_test_results_df])\n",
    "print(group_variable)\n",
    "overall_result"
   ]
  }
 ],
 "metadata": {
  "kernelspec": {
   "display_name": "dremt",
   "language": "python",
   "name": "python3"
  },
  "language_info": {
   "codemirror_mode": {
    "name": "ipython",
    "version": 3
   },
   "file_extension": ".py",
   "mimetype": "text/x-python",
   "name": "python",
   "nbconvert_exporter": "python",
   "pygments_lexer": "ipython3",
   "version": "3.10.13"
  }
 },
 "nbformat": 4,
 "nbformat_minor": 2
}
